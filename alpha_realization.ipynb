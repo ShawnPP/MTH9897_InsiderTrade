{
 "cells": [
  {
   "cell_type": "code",
   "execution_count": 1,
   "id": "33a67f07",
   "metadata": {},
   "outputs": [],
   "source": [
    "import statsmodels.api as sm\n",
    "import matplotlib.pyplot as plt\n",
    "import pandas as pd\n",
    "import numpy as np\n",
    "import yfinance as yf\n",
    "import os\n",
    "from tqdm import tqdm"
   ]
  },
  {
   "cell_type": "code",
   "execution_count": 2,
   "id": "6e74d311",
   "metadata": {},
   "outputs": [
    {
     "name": "stderr",
     "output_type": "stream",
     "text": [
      "100%|███████████████████████████████████████████████████████████████████████████████| 469/469 [00:01<00:00, 296.40it/s]\n"
     ]
    }
   ],
   "source": [
    "df0 = pd.read_csv(f\"./bt_stock_data/AAL.csv\", index_col=0)\n",
    "bad_tickers = []\n",
    "for file in tqdm(os.listdir(\"./bt_stock_data/\")):\n",
    "       df = pd.read_csv(f\"./bt_stock_data/{file}\", index_col=0)\n",
    "       if len(df.index) != len(df0.index):\n",
    "              bad_tickers.append(file[:-4])"
   ]
  },
  {
   "cell_type": "code",
   "execution_count": 9,
   "id": "979c22df",
   "metadata": {
    "scrolled": true
   },
   "outputs": [],
   "source": [
    "def alpha_realization(folder):\n",
    "\n",
    "    df_list = []\n",
    "\n",
    "    spy_ohlc_df = yf.download('SPY', start='2018-01-01', end='2021-12-31')\n",
    "\n",
    "    for file in tqdm(os.listdir(\"./\"+ folder + \"/\")):\n",
    "\n",
    "        #Load data\n",
    "        ticker = file[:-4]\n",
    "        df_feed = pd.read_csv(\".\\\\\" + folder + \"\\\\\" + str(ticker) +\".csv\", index_col=0, parse_dates=True)\n",
    "\n",
    "        #Create signal\n",
    "        df_feed['signal'] = np.sign(df_feed['transactionAmounts']) * np.where(df_feed['numTransactions'] > 0, 1, 0)\n",
    "\n",
    "        #Add market data\n",
    "        df_feed['spy_close'] = spy_ohlc_df['Adj Close']\n",
    "        df_feed['spy_open'] = spy_ohlc_df['Open']\n",
    "        \n",
    "        #Create a 90 day rolling covariance series\n",
    "        rolling_cov = df_feed[['close','spy_close']].pct_change().rolling(90).cov().reset_index()\n",
    "        rolling_cov = rolling_cov[rolling_cov['level_1'] == 'close'][['date','spy_close']].set_index('date')\n",
    "\n",
    "        #beta = 90 day rolling covariance / 90 day rolling market variance\n",
    "        beta_df = (rolling_cov / df_feed[['spy_close']].pct_change().rolling(90).var()).shift()\n",
    "\n",
    "        period_array = [1, 2, 3, 4, 5, 10, 20, 60, 120, 180, 250, 360, 500]\n",
    "        for period in period_array:\n",
    "\n",
    "            #Compute stock's performance over period long horizon and remove market component\n",
    "            df_feed['FwdPerf' + str(period)] = df_feed['close'].pct_change(period).shift(-period) \\\n",
    "                - beta_df['spy_close'] * df_feed['spy_close'].pct_change(period).shift(-period)\n",
    "\n",
    "        if df_feed.shape[0] > 0 and (df_feed.shape[0] == len(df_feed.index.unique())):\n",
    "            if ticker in ['CRM', 'TECH', 'DLTR', 'V']:\n",
    "                continue\n",
    "            if ticker in bad_tickers:\n",
    "                continue  \n",
    "\n",
    "            df_list.append(df_feed[['signal'] + ['FwdPerf' + str(period) for period in period_array]])\n",
    "\n",
    "    complete_df = pd.concat(df_list)\n",
    "\n",
    "    bias_array = []\n",
    "    #Compute bias (correlation * sigma_y) for each forward performance period\n",
    "    for period in period_array:\n",
    "        subset = complete_df[['signal','FwdPerf'+str(period)]].dropna()\n",
    "        bias_array.append(sm.OLS(subset['signal'],sm.add_constant(subset['FwdPerf' + str(period)])).fit().params['FwdPerf' + str(period)] * subset['signal'].std())\n",
    "\n",
    "    return period_array, bias_array"
   ]
  },
  {
   "cell_type": "code",
   "execution_count": 10,
   "id": "6681244e",
   "metadata": {},
   "outputs": [
    {
     "name": "stdout",
     "output_type": "stream",
     "text": [
      "[*********************100%***********************]  1 of 1 completed\n"
     ]
    },
    {
     "name": "stderr",
     "output_type": "stream",
     "text": [
      "100%|████████████████████████████████████████████████████████████████████████████████| 469/469 [00:27<00:00, 16.78it/s]\n"
     ]
    },
    {
     "name": "stdout",
     "output_type": "stream",
     "text": [
      "[*********************100%***********************]  1 of 1 completed\n"
     ]
    },
    {
     "name": "stderr",
     "output_type": "stream",
     "text": [
      "100%|████████████████████████████████████████████████████████████████████████████████| 479/479 [00:28<00:00, 16.84it/s]\n"
     ]
    }
   ],
   "source": [
    "period_array, bias_array_edgar = alpha_realization('bt_stock_data')\n",
    "_, bias_array_insider          = alpha_realization('bt_stock_data_forward')"
   ]
  },
  {
   "cell_type": "code",
   "execution_count": 11,
   "id": "1ae49efd",
   "metadata": {},
   "outputs": [
    {
     "data": {
      "text/plain": [
       "<matplotlib.legend.Legend at 0x254a4cf5d68>"
      ]
     },
     "execution_count": 11,
     "metadata": {},
     "output_type": "execute_result"
    },
    {
     "data": {
      "image/png": "[encoded data removed]",
      "text/plain": [
       "<Figure size 432x288 with 1 Axes>"
      ]
     },
     "metadata": {
      "needs_background": "light"
     },
     "output_type": "display_data"
    }
   ],
   "source": [
    "fig = plt.figure()\n",
    "plt.plot(period_array[:-5], bias_array_edgar[:-5], color = 'blue', label = 'Signal based on Filing Date')\n",
    "plt.plot(period_array[:-5], bias_array_insider[:-5], color = 'red', label = 'Signal based on Report Date')\n",
    "fig.suptitle('Alpha Realization', fontsize=18)\n",
    "plt.xlabel('Forward Performance Days', fontsize=14)\n",
    "plt.ylabel(r'Bias ($\\beta\\sigma_x$)', fontsize=14)\n",
    "plt.legend()"
   ]
  },
  {
   "cell_type": "code",
   "execution_count": 6,
   "id": "8f6379a8",
   "metadata": {},
   "outputs": [],
   "source": [
    "def alpha_realization(folder):\n",
    "\n",
    "    df_list = []\n",
    "\n",
    "    spy_ohlc_df = yf.download('SPY', start='2018-01-01', end='2021-12-31')\n",
    "\n",
    "    for file in tqdm(os.listdir(\"./\"+ folder + \"/\")):\n",
    "\n",
    "        #Load data\n",
    "        ticker = file[:-4]\n",
    "        df_feed = pd.read_csv(\".\\\\\" + folder + \"\\\\\" + str(ticker) +\".csv\", index_col=0, parse_dates=True)\n",
    "\n",
    "        #Create signal\n",
    "        df_feed['signal'] = np.sign(df_feed['transactionAmounts']) * np.where(df_feed['numTransactions'] > 0, 1, 0)\n",
    "\n",
    "        #Add market data\n",
    "        df_feed['spy_close'] = spy_ohlc_df['Adj Close']\n",
    "        df_feed['spy_open'] = spy_ohlc_df['Open']\n",
    "        \n",
    "        #Create a 90 day rolling covariance series\n",
    "        rolling_cov = df_feed[['open','spy_open']].pct_change().rolling(90).cov().reset_index()\n",
    "        rolling_cov = rolling_cov[rolling_cov['level_1'] == 'open'][['date','spy_open']].set_index('date')\n",
    "\n",
    "        #beta = 90 day rolling covariance / 90 day rolling market variance\n",
    "        beta_df = (rolling_cov / df_feed[['spy_open']].pct_change().rolling(90).var()).shift()\n",
    "\n",
    "        period_array = [1, 2, 3, 4, 5, 10, 20, 60, 120, 180, 250, 360, 500]\n",
    "        for period in period_array:\n",
    "\n",
    "            #Compute stock's performance over period long horizon and remove market component\n",
    "            df_feed['FwdPerf' + str(period)] = df_feed['open'].shift(-1).pct_change(period).shift(-period) - \\\n",
    "                beta_df['spy_open'] * df_feed['spy_open'].shift(-1).pct_change(period).shift(-period)\n",
    "\n",
    "        if df_feed.shape[0] > 0 and (df_feed.shape[0] == len(df_feed.index.unique())):\n",
    "            if ticker in ['CRM', 'TECH', 'DLTR', 'V']:\n",
    "                continue\n",
    "            if ticker in bad_tickers:\n",
    "                continue  \n",
    "\n",
    "            df_list.append(df_feed[['signal'] + ['FwdPerf' + str(period) for period in period_array]])\n",
    "\n",
    "    complete_df = pd.concat(df_list)\n",
    "\n",
    "    bias_array = []\n",
    "    #Compute bias (correlation * sigma_y) for each forward performance period\n",
    "    for period in period_array:\n",
    "        subset = complete_df[['signal','FwdPerf'+str(period)]].dropna()\n",
    "        bias_array.append(sm.OLS(subset['signal'],sm.add_constant(subset['FwdPerf' + str(period)])).fit().params['FwdPerf' + str(period)] * subset['signal'].std())\n",
    "\n",
    "    return period_array, bias_array"
   ]
  },
  {
   "cell_type": "code",
   "execution_count": 7,
   "id": "39bea9e8",
   "metadata": {},
   "outputs": [
    {
     "name": "stdout",
     "output_type": "stream",
     "text": [
      "[*********************100%***********************]  1 of 1 completed\n"
     ]
    },
    {
     "name": "stderr",
     "output_type": "stream",
     "text": [
      "100%|████████████████████████████████████████████████████████████████████████████████| 469/469 [01:08<00:00,  6.81it/s]\n"
     ]
    },
    {
     "name": "stdout",
     "output_type": "stream",
     "text": [
      "[*********************100%***********************]  1 of 1 completed\n"
     ]
    },
    {
     "name": "stderr",
     "output_type": "stream",
     "text": [
      "100%|████████████████████████████████████████████████████████████████████████████████| 479/479 [01:10<00:00,  6.80it/s]\n"
     ]
    }
   ],
   "source": [
    "period_array, bias_array_edgar = alpha_realization('bt_stock_data')\n",
    "_, bias_array_insider          = alpha_realization('bt_stock_data_forward')"
   ]
  },
  {
   "cell_type": "code",
   "execution_count": 8,
   "id": "e06ab52c",
   "metadata": {
    "scrolled": false
   },
   "outputs": [
    {
     "data": {
      "text/plain": [
       "<matplotlib.legend.Legend at 0x254a4dfb748>"
      ]
     },
     "execution_count": 8,
     "metadata": {},
     "output_type": "execute_result"
    },
    {
     "data": {
      "image/png": "[encoded data removed]",
      "text/plain": [
       "<Figure size 432x288 with 1 Axes>"
      ]
     },
     "metadata": {
      "needs_background": "light"
     },
     "output_type": "display_data"
    }
   ],
   "source": [
    "fig = plt.figure()\n",
    "plt.plot(period_array[:-5], bias_array_edgar[:-5], color = 'blue', label = 'Signal based on Filing Date')\n",
    "plt.plot(period_array[:-5], bias_array_insider[:-5], color = 'red', label = 'Signal based on Report Date')\n",
    "fig.suptitle('Alpha Realization', fontsize=18)\n",
    "plt.xlabel('Forward Performance Days', fontsize=14)\n",
    "plt.ylabel(r'Bias ($\\beta\\sigma_x$)', fontsize=14)\n",
    "plt.legend()"
   ]
  },
  {
   "cell_type": "markdown",
   "id": "f47494e1",
   "metadata": {},
   "source": [
    "Alpha Realization Plot in BackTesting"
   ]
  },
  {
   "cell_type": "code",
   "execution_count": 2,
   "id": "6b659350",
   "metadata": {},
   "outputs": [],
   "source": [
    "x = [1,2,3,5,10,20,40,60]\n",
    "sharpe_filing = [-0.45, 0.92, 0.66, 0.17, 0.26, 0.29, -0.06, -0.07]\n",
    "sharpe_report = [-0.45, 0.92, 0.66, 0.16, 0.26, 0.28, -0.06, -0.07]"
   ]
  },
  {
   "cell_type": "code",
   "execution_count": 3,
   "id": "0a4ed4f0",
   "metadata": {},
   "outputs": [
    {
     "data": {
      "text/plain": [
       "<matplotlib.legend.Legend at 0x29010568c50>"
      ]
     },
     "execution_count": 3,
     "metadata": {},
     "output_type": "execute_result"
    },
    {
     "data": {
      "image/png": "[encoded data removed]",
      "text/plain": [
       "<Figure size 432x288 with 1 Axes>"
      ]
     },
     "metadata": {
      "needs_background": "light"
     },
     "output_type": "display_data"
    }
   ],
   "source": [
    "plt.plot(x, sharpe_filing, label='Signal based on Filing Date')\n",
    "plt.plot(x, sharpe_report, label=\"Signal based on Report Date\")\n",
    "plt.ylabel(\"Sharpe Ratio\")\n",
    "plt.xlabel(\"Forward Performance Days\")\n",
    "plt.legend()"
   ]
  }
 ],
 "metadata": {
  "kernelspec": {
   "display_name": "Python 3.6.15 ('zip_py36')",
   "language": "python",
   "name": "python3"
  },
  "language_info": {
   "codemirror_mode": {
    "name": "ipython",
    "version": 3
   },
   "file_extension": ".py",
   "mimetype": "text/x-python",
   "name": "python",
   "nbconvert_exporter": "python",
   "pygments_lexer": "ipython3",
   "version": "3.6.15"
  },
  "vscode": {
   "interpreter": {
    "hash": "e190701027438aa2a25362b720643f95fc3d9939526ecdf2ecd505e2feb6c0a2"
   }
  }
 },
 "nbformat": 4,
 "nbformat_minor": 5
}
