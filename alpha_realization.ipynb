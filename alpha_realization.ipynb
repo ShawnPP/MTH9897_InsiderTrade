{
 "cells": [
  {
   "cell_type": "code",
   "execution_count": 7,
   "id": "33a67f07",
   "metadata": {},
   "outputs": [],
   "source": [
    "import statsmodels.api as sm\n",
    "import matplotlib.pyplot as plt\n",
    "import pandas as pd\n",
    "import numpy as np\n",
    "import yfinance as yf\n",
    "import os\n",
    "from tqdm import tqdm"
   ]
  },
  {
   "cell_type": "code",
   "execution_count": 8,
   "id": "6e74d311",
   "metadata": {},
   "outputs": [
    {
     "name": "stderr",
     "output_type": "stream",
     "text": [
      "100%|████████████████████████████████████████████████████████████████████████████████| 469/469 [00:05<00:00, 91.63it/s]\n"
     ]
    }
   ],
   "source": [
    "df0 = pd.read_csv(f\"./bt_stock_data/AAL.csv\", index_col=0)\n",
    "bad_tickers = []\n",
    "for file in tqdm(os.listdir(\"./bt_stock_data/\")):\n",
    "       df = pd.read_csv(f\"./bt_stock_data/{file}\", index_col=0)\n",
    "       if len(df.index) != len(df0.index):\n",
    "              bad_tickers.append(file[:-4])"
   ]
  },
  {
   "cell_type": "code",
   "execution_count": 9,
   "id": "91702fd2",
   "metadata": {
    "scrolled": true
   },
   "outputs": [
    {
     "name": "stdout",
     "output_type": "stream",
     "text": [
      "[*********************100%***********************]  1 of 1 completed\n"
     ]
    },
    {
     "name": "stderr",
     "output_type": "stream",
     "text": [
      "100%|████████████████████████████████████████████████████████████████████████████████| 469/469 [00:58<00:00,  7.99it/s]\n"
     ]
    }
   ],
   "source": [
    "df_list = []\n",
    "\n",
    "spy_ohlc_df = yf.download('SPY', start='2018-01-01', end='2021-12-31')\n",
    "\n",
    "for file in tqdm(os.listdir(\"./bt_stock_data/\")):\n",
    "    \n",
    "    #Load data\n",
    "    ticker = file[:-4]\n",
    "    df_feed = pd.read_csv(f\".\\\\bt_stock_data\\{ticker}.csv\", index_col=0, parse_dates=True)\n",
    "    \n",
    "    #Create signal\n",
    "    df_feed['nTransactions_signed'] = np.sign(df_feed['transactionShares']) * df_feed['numTransactions']\n",
    "    df_feed['week_nTransactions_signed'] = df_feed['nTransactions_signed'].fillna(0).rolling(5).sum()\n",
    "    df_feed['signal'] = np.where(df_feed['week_nTransactions_signed'] >= 3, 1, np.where(df_feed['week_nTransactions_signed'] <= -3,-1,0))\n",
    "    \n",
    "    #Add market data\n",
    "    df_feed['spy_close'] = spy_ohlc_df['Adj Close']\n",
    "    \n",
    "    #Create a 90 day rolling covariance series\n",
    "    rolling_cov = df_feed[['close','spy_close']].pct_change().rolling(90).cov().reset_index()\n",
    "    rolling_cov = rolling_cov[rolling_cov['level_1'] == 'close'][['date','spy_close']].set_index('date')\n",
    "    \n",
    "    #beta = 90 day rolling covariance / 90 day rolling market variance\n",
    "    beta_df = (rolling_cov / df_feed[['spy_close']].pct_change().rolling(90).var()).shift()\n",
    "    \n",
    "    period_array = [1, 5, 10, 20, 60, 120, 180, 250, 360, 500]\n",
    "    for period in period_array:\n",
    "        \n",
    "        #Compute stock's performance over period long horizon and remove market component\n",
    "        df_feed['FwdPerf' + str(period)] = df_feed['close'].pct_change(period).shift(-period) - \\\n",
    "            beta_df['spy_close'] * df_feed['spy_close'].pct_change(period).shift(-period)\n",
    "    \n",
    "    if df_feed.shape[0] > 0 and (df_feed.shape[0] == len(df_feed.index.unique())):\n",
    "        if ticker in ['CRM', 'TECH', 'DLTR', 'V']:\n",
    "            continue\n",
    "        if ticker in bad_tickers:\n",
    "            continue  \n",
    "            \n",
    "        df_list.append(df_feed[['signal'] + ['FwdPerf' + str(period) for period in period_array]])\n",
    "        \n",
    "complete_df = pd.concat(df_list)"
   ]
  },
  {
   "cell_type": "code",
   "execution_count": 10,
   "id": "76cb80d0",
   "metadata": {},
   "outputs": [],
   "source": [
    "bias_array = []\n",
    "\n",
    "#Compute bias (correlation * sigma_y) for each forward performance period\n",
    "for period in period_array:\n",
    "    subset = complete_df[['signal','FwdPerf'+str(period)]].dropna()\n",
    "    bias_array.append(sm.OLS(subset['signal'],sm.add_constant(subset['FwdPerf' + str(period)])).fit().params['FwdPerf' + str(period)] * subset['signal'].std())"
   ]
  },
  {
   "cell_type": "code",
   "execution_count": 11,
   "id": "c447008f",
   "metadata": {},
   "outputs": [
    {
     "data": {
      "text/plain": [
       "Text(0, 0.5, 'Bias')"
      ]
     },
     "execution_count": 11,
     "metadata": {},
     "output_type": "execute_result"
    },
    {
     "data": {
      "image/png": "[encoded data removed]",
      "text/plain": [
       "<Figure size 432x288 with 1 Axes>"
      ]
     },
     "metadata": {
      "needs_background": "light"
     },
     "output_type": "display_data"
    }
   ],
   "source": [
    "fig = plt.figure()\n",
    "plt.plot(period_array, bias_array)\n",
    "fig.suptitle('Alpha Realization', fontsize=18)\n",
    "plt.xlabel('Forward Performance Days', fontsize=14)\n",
    "plt.ylabel('Bias', fontsize=14)"
   ]
  }
 ],
 "metadata": {
  "kernelspec": {
   "display_name": "Python 3.6",
   "language": "python",
   "name": "py36"
  },
  "language_info": {
   "codemirror_mode": {
    "name": "ipython",
    "version": 3
   },
   "file_extension": ".py",
   "mimetype": "text/x-python",
   "name": "python",
   "nbconvert_exporter": "python",
   "pygments_lexer": "ipython3",
   "version": "3.6.13"
  }
 },
 "nbformat": 4,
 "nbformat_minor": 5
}
