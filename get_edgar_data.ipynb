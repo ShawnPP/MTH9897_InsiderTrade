{
 "cells": [
  {
   "cell_type": "code",
   "execution_count": 1,
   "metadata": {},
   "outputs": [],
   "source": [
    "import pandas as pd\n",
    "import numpy as np\n",
    "import xml.etree.ElementTree as ET\n",
    "from get_edgar_data import ParseXML\n",
    "import os\n",
    "from tqdm import tqdm"
   ]
  },
  {
   "cell_type": "markdown",
   "metadata": {},
   "source": [
    "### Turn filings into dataframe"
   ]
  },
  {
   "cell_type": "code",
   "execution_count": null,
   "metadata": {},
   "outputs": [],
   "source": [
    "class ParseXML:\n",
    "    @staticmethod\n",
    "    def calc_transactionAmounts(xmlpath):\n",
    "        \"\"\"Calculate the total transaction amount in $ of a giving form 4 in XML\"\"\"\n",
    "        xml = ET.parse(xmlpath).getroot()\n",
    "        total = 0\n",
    "\n",
    "        if xml is None:\n",
    "            return total\n",
    "\n",
    "        nonDerivativeTransactions = xml.findall(\n",
    "            \"./nonDerivativeTable/nonDerivativeTransaction\"\n",
    "        )\n",
    "\n",
    "        for t in nonDerivativeTransactions:\n",
    "            # D for disposed or A for acquired\n",
    "            action = t.find(\n",
    "                \"./transactionAmounts/transactionAcquiredDisposedCode/value\"\n",
    "            ).text\n",
    "            # number of shares disposed/acquired\n",
    "            shares = t.find(\"./transactionAmounts/transactionShares/value\").text\n",
    "            # price\n",
    "            priceRaw = t.find(\"./transactionAmounts/transactionPricePerShare/value\")\n",
    "            price = 0 if priceRaw is None else priceRaw.text\n",
    "            # set prefix to -1 if derivatives were disposed. set prefix to 1 if derivates were acquired.\n",
    "            prefix = -1 if action == \"D\" else 1\n",
    "            # calculate transaction amount in $\n",
    "            amount = prefix * float(shares) * float(price)\n",
    "            total += amount\n",
    "\n",
    "        return round(total, 2)\n",
    "\n",
    "    @staticmethod\n",
    "    def calc_transactionPricePerShare(xmlpath):\n",
    "        \"\"\"Calculate the avg transaction price per share in $ of a giving form 4 in XML\"\"\"\n",
    "        xml = ET.parse(xmlpath).getroot()\n",
    "        if xml is None:\n",
    "            return np.nan\n",
    "\n",
    "        nonDerivativeTransactions = xml.findall(\n",
    "            \"./nonDerivativeTable/nonDerivativeTransaction\"\n",
    "        )\n",
    "\n",
    "        prices = []\n",
    "        shares = []\n",
    "        for t in nonDerivativeTransactions:\n",
    "            action = t.find(\n",
    "                \"./transactionAmounts/transactionAcquiredDisposedCode/value\"\n",
    "            ).text\n",
    "            shareRaw = t.find(\"./transactionAmounts/transactionShares/value\").text\n",
    "            priceRaw = t.find(\"./transactionAmounts/transactionPricePerShare/value\")\n",
    "            if not priceRaw is None:\n",
    "                prices.append(float(priceRaw.text) * float(shareRaw))\n",
    "                shares.append(float(shareRaw))\n",
    "\n",
    "        if (len(prices) > 0) and (len(shares) >0) and (np.sum(shares)!=0):\n",
    "            return np.sum(prices) / np.sum(shares)\n",
    "        else:\n",
    "            return np.nan\n",
    "\n",
    "    @staticmethod\n",
    "    def calc_transactionShares(xmlpath):\n",
    "        \"\"\"Calculate the avg transaction price per share in $ of a giving form 4 in XML\"\"\"\n",
    "        xml = ET.parse(xmlpath).getroot()\n",
    "\n",
    "        if xml is None:\n",
    "            return np.nan\n",
    "\n",
    "        nonDerivativeTransactions = xml.findall(\n",
    "            \"./nonDerivativeTable/nonDerivativeTransaction\"\n",
    "        )\n",
    "\n",
    "        shares = []\n",
    "        for t in nonDerivativeTransactions:\n",
    "            action = t.find(\n",
    "                \"./transactionAmounts/transactionAcquiredDisposedCode/value\"\n",
    "            ).text\n",
    "            shareRaw = t.find(\"./transactionAmounts/transactionShares/value\")\n",
    "            prefix = -1 if action == \"D\" else 1\n",
    "            if not shareRaw is None:\n",
    "                shares.append(prefix * float(shareRaw.text))\n",
    "\n",
    "        if len(shares) > 0:\n",
    "            return np.sum(shares)\n",
    "        else:\n",
    "            return np.nan\n",
    "\n",
    "    @staticmethod\n",
    "    def calc_absTransactionShares(xmlpath):\n",
    "        \"\"\"Calculate the avg transaction price per share in $ of a giving form 4 in XML\"\"\"\n",
    "        xml = ET.parse(xmlpath).getroot()\n",
    "        if xml is None:\n",
    "            return np.nan\n",
    "\n",
    "        nonDerivativeTransactions = xml.findall(\n",
    "            \"./nonDerivativeTable/nonDerivativeTransaction\"\n",
    "        )\n",
    "\n",
    "        shares = []\n",
    "        for t in nonDerivativeTransactions:\n",
    "            shareRaw = t.find(\"./transactionAmounts/transactionShares/value\")\n",
    "            if not shareRaw is None:\n",
    "                shares.append(float(shareRaw.text))\n",
    "        if len(shares) > 0:\n",
    "            return np.sum(shares)\n",
    "        else:\n",
    "            return np.nan"
   ]
  },
  {
   "cell_type": "code",
   "execution_count": null,
   "metadata": {},
   "outputs": [],
   "source": [
    "def get_filed_date(filingDir):\n",
    "    \"\"\"\n",
    "    return format: str, 20180109\n",
    "    \"\"\"\n",
    "    import re\n",
    "    with open(filingDir + \"/full-submission.txt\", \"r\") as f:\n",
    "        content = f.read()\n",
    "    date = re.search(\"FILED AS OF DATE:[\\s]*[0-9]{8}\", content).group()[-8:]\n",
    "    return pd.Timestamp(date)\n",
    "\n",
    "filingDir = \"./sec-edgar-filings/AAP\\\\4\\\\0000921895-18-000108\"\n",
    "xmlpath = filingDir + \"/filing-details.xml\"\n",
    "ParseXML.calc_transactionAmounts(xmlpath=xmlpath)"
   ]
  },
  {
   "cell_type": "markdown",
   "metadata": {},
   "source": [
    "### Get EDGAR stats for AAPL"
   ]
  },
  {
   "cell_type": "code",
   "execution_count": null,
   "metadata": {},
   "outputs": [],
   "source": [
    "edgarDir = \"./sec-edgar-filings/\"\n",
    "ticker = \"BIO\"\n",
    "filingsDir = edgarDir + \"/\" + ticker + \"/4/\"\n",
    "dates = []\n",
    "transactionPricePerShare = []\n",
    "transactionShares = []\n",
    "absTransactionShares = []\n",
    "transactionAmounts = []\n",
    "filingName = []\n",
    "for filingDir in os.listdir(filingsDir):\n",
    "    dates.append(get_filed_date(filingsDir + \"/\" + filingDir))\n",
    "    xmlpath = filingsDir + \"/\" + filingDir + \"/filing-details.xml\" \n",
    "    transactionPricePerShare.append(ParseXML.calc_transactionPricePerShare(xmlpath=xmlpath))\n",
    "    transactionShares.append(ParseXML.calc_transactionShares(xmlpath=xmlpath))\n",
    "    absTransactionShares.append(ParseXML.calc_absTransactionShares(xmlpath=xmlpath))\n",
    "    transactionAmounts.append(ParseXML.calc_transactionAmounts(xmlpath=xmlpath))\n",
    "    filingName.append(filingDir)"
   ]
  },
  {
   "cell_type": "code",
   "execution_count": null,
   "metadata": {},
   "outputs": [],
   "source": [
    "df_stock = pd.read_csv(f\"./stock_data/{ticker}.csv\", index_col=0)\n",
    "df_stock.index[0]"
   ]
  },
  {
   "cell_type": "code",
   "execution_count": null,
   "metadata": {},
   "outputs": [],
   "source": [
    "df_data = pd.DataFrame.from_dict({\n",
    "    \"date\": dates,\n",
    "    \"transactionPricePerShare\": transactionPricePerShare, \n",
    "    \"transactionShares\": transactionShares, \n",
    "    \"absTransactionShares\": absTransactionShares, \n",
    "    \"transactionAmounts\": transactionAmounts,\n",
    "    \"filingName\": filingName\n",
    "})\n",
    "df_data = df_data.set_index('date')"
   ]
  },
  {
   "cell_type": "code",
   "execution_count": null,
   "metadata": {},
   "outputs": [],
   "source": [
    "# df_data.to_csv(f\"./edgar_data/{ticker}.csv\")\n",
    "df_stats = df_data.groupby(level=0).sum()\n",
    "df_stats['numTransactions'] = df_data.groupby(\"date\")['transactionAmounts'].count()\n",
    "# df_stats.to_csv(f\"./stock_edgar_stats/{ticker}.csv\")\n",
    "df_stats.index = df_stats.index.strftime('%Y-%m-%d')\n",
    "df_stock = pd.read_csv(f\"./stock_data/{ticker}.csv\", index_col=0)\n",
    "# df_stock.merge(df_stats, left_index=True, right_index=True, how='outer').to_csv(f\"./bt_stock_data/{ticker}.csv\")"
   ]
  },
  {
   "cell_type": "code",
   "execution_count": null,
   "metadata": {},
   "outputs": [],
   "source": [
    "df_stock.dropna().loc['2018-01-02']"
   ]
  },
  {
   "cell_type": "code",
   "execution_count": null,
   "metadata": {},
   "outputs": [],
   "source": [
    "df_stats"
   ]
  },
  {
   "cell_type": "code",
   "execution_count": null,
   "metadata": {},
   "outputs": [],
   "source": [
    "df_stock.merge(df_stats, left_index=True, right_index=True, how='outer')"
   ]
  },
  {
   "cell_type": "code",
   "execution_count": null,
   "metadata": {},
   "outputs": [],
   "source": [
    "df_stock.describe()"
   ]
  },
  {
   "cell_type": "code",
   "execution_count": null,
   "metadata": {},
   "outputs": [],
   "source": [
    "def gen_bt_stock_data(ticker, edgarDir=\"./sec-edgar-filings/\", bt_stock_data_dir=\"./bt_stock_data/\"):\n",
    "    filingsDir = edgarDir + \"/\" + ticker + \"/4/\"\n",
    "    dates = []\n",
    "    transactionPricePerShare = []\n",
    "    transactionShares = []\n",
    "    absTransactionShares = []\n",
    "    transactionAmounts = []\n",
    "    filingName = []\n",
    "    for filingDir in os.listdir(filingsDir):\n",
    "        dates.append(get_filed_date(filingsDir + \"/\" + filingDir))\n",
    "        xmlpath = filingsDir + \"/\" + filingDir + \"/filing-details.xml\" \n",
    "        if os.path.exists(xmlpath):\n",
    "            transactionPricePerShare.append(ParseXML.calc_transactionPricePerShare(xmlpath=xmlpath))\n",
    "            transactionShares.append(ParseXML.calc_transactionShares(xmlpath=xmlpath))\n",
    "            absTransactionShares.append(ParseXML.calc_absTransactionShares(xmlpath=xmlpath))\n",
    "            transactionAmounts.append(ParseXML.calc_transactionAmounts(xmlpath=xmlpath))\n",
    "            filingName.append(filingDir)\n",
    "\n",
    "    df_data = pd.DataFrame.from_dict({\n",
    "        \"date\": dates,\n",
    "        \"transactionPricePerShare\": transactionPricePerShare, \n",
    "        \"transactionShares\": transactionShares, \n",
    "        \"absTransactionShares\": absTransactionShares, \n",
    "        \"transactionAmounts\": transactionAmounts,\n",
    "        \"filingName\": filingName\n",
    "    })\n",
    "    df_data = df_data.set_index('date')\n",
    "\n",
    "    df_data.to_csv(f\"./edgar_data/{ticker}.csv\")\n",
    "    df_stats = df_data.groupby(level=0).sum()\n",
    "    df_stats['numTransactions'] = df_data.groupby(\"date\")['transactionAmounts'].count()\n",
    "    df_stats.to_csv(f\"./stock_edgar_stats/{ticker}.csv\")\n",
    "    df_stats.index = df_stats.index.strftime('%Y-%m-%d')\n",
    "\n",
    "    df_stock = pd.read_csv(f\"./stock_data/{ticker}.csv\", index_col=0)\n",
    "    df_stock.dropna(inplace=True)\n",
    "    df_stock.merge(df_stats, left_index=True, right_index=True, how='outer').to_csv(f\"./bt_stock_data/{ticker}.csv\")\n",
    "    df_stock = df_stock.merge(df_stats, left_index=True, right_index=True, how='outer')\n",
    "    df_stock.to_csv(f\"{bt_stock_data_dir}/{ticker}.csv\")\n",
    "\n"
   ]
  },
  {
   "cell_type": "code",
   "execution_count": null,
   "metadata": {},
   "outputs": [],
   "source": [
    "for file in tqdm(os.listdir(\"./stock_data/\")):\n",
    "    ticker = file[:-4]\n",
    "    try:\n",
    "        gen_bt_stock_data(ticker)\n",
    "    except Exception as e:\n",
    "        print(ticker, e)\n",
    "#almost 20min"
   ]
  },
  {
   "cell_type": "code",
   "execution_count": null,
   "metadata": {},
   "outputs": [],
   "source": [
    "df0 = pd.read_csv(f\"./bt_stock_data/AAL.csv\", index_col=0)\n",
    "bad_tickers = []\n",
    "for file in tqdm(os.listdir(\"./bt_stock_data/\")):\n",
    "       df = pd.read_csv(f\"./bt_stock_data/{file}\", index_col=0)\n",
    "       if len(df.index) != len(df0.index):\n",
    "              bad_tickers.append(file[:-4])"
   ]
  },
  {
   "cell_type": "code",
   "execution_count": null,
   "metadata": {},
   "outputs": [],
   "source": [
    "df0 = pd.read_csv(f\"./bt_stock_data/AAL.csv\", index_col=0)\n",
    "date_df_dict = {}\n",
    "for file in tqdm(os.listdir(\"./bt_stock_data/\")):\n",
    "    if file[:-4] in bad_tickers:\n",
    "        continue\n",
    "    df = pd.read_csv(f\"./bt_stock_data/{file}\", index_col=0)\n",
    "    for date in df0.index:\n",
    "        if date not in date_df_dict:\n",
    "            date_df_dict[date] = df.loc[date]\n",
    "        else:\n",
    "            date_df_dict[date] = pd.concat([date_df_dict[date], df.loc[date]],axis=1)\n",
    "for k,v in date_df_dict.items():\n",
    "    date_df_dict[k] = v.T.reset_index().set_index('ticker')\n",
    "    date_df_dict[k].drop(columns='index', inplace=True)\n",
    "    v.to_csv(f\"./bt_stock_data_crossection/{k}.csv\")"
   ]
  },
  {
   "cell_type": "code",
   "execution_count": 16,
   "metadata": {},
   "outputs": [
    {
     "name": "stderr",
     "output_type": "stream",
     "text": [
      "100%|██████████| 1008/1008 [00:11<00:00, 87.32it/s]\n"
     ]
    }
   ],
   "source": [
    "date_df_dict = {}\n",
    "cols = [\"rank_transactionPricePerShare\", \"rank_transactionShares\", \"rank_absTransactionShares\", \"rank_transactionAmounts\", \"rank_numTransactions\"]\n",
    "prefix = \"sum_decen_\"\n",
    "tcols = [prefix + col for col in cols]\n",
    "for file in tqdm(os.listdir(\"./bt_stock_data_crossection1/\")):\n",
    "    date = file[:-4]\n",
    "    df = pd.read_csv(f\"./bt_stock_data_crossection1/{file}\", index_col=0)\n",
    "    for i in range(len(cols)):\n",
    "        df[tcols[i]] = np.nan \n",
    "        df[tcols[i]][~np.isnan(df[cols[i]])] = np.abs(df[cols[i]] - 0.5).sum()/2\n",
    "    date_df_dict[date] = df\n",
    "    df.to_csv(f\"./bt_stock_data_crossection2/{file}\")"
   ]
  },
  {
   "cell_type": "code",
   "execution_count": null,
   "metadata": {},
   "outputs": [],
   "source": [
    "# cols = ['transactionPricePerShare', 'transactionShares', 'absTransactionShares', 'transactionAmounts', 'numTransactions']\n",
    "# tcols = ['rank_transactionPricePerShare', 'rank_transactionShares', 'rank_absTransactionShares', 'rank_transactionAmounts', 'rank_numTransactions']\n",
    "# for k,v in date_df_dict.items():\n",
    "#     tmp = v[cols].rank(pct=True)\n",
    "#     tmp.columns = tcols\n",
    "#     tmp = pd.concat([v,tmp], axis=1)\n",
    "#     tmp.to_csv(f\"./bt_stock_data_crossection1/{k}.csv\")"
   ]
  },
  {
   "cell_type": "markdown",
   "metadata": {},
   "source": [
    "#### Turn Crosssectional Fields into Time-Series"
   ]
  },
  {
   "cell_type": "code",
   "execution_count": 10,
   "metadata": {},
   "outputs": [],
   "source": [
    "ticker_df_dict = {}\n",
    "for k,v in tqdm(date_df_dict.items()):\n",
    "    for ticker in v.index:\n",
    "        if ticker not in ticker_df_dict:\n",
    "            tmp = v.loc[[ticker]]\n",
    "            tmp['date'] = k\n",
    "            ticker_df_dict[ticker] = tmp\n",
    "        else:\n",
    "            tmp = v.loc[[ticker]]\n",
    "            tmp['date'] = k\n",
    "            ticker_df_dict[ticker] = pd.concat([ticker_df_dict[ticker], tmp])"
   ]
  },
  {
   "cell_type": "code",
   "execution_count": 11,
   "metadata": {},
   "outputs": [],
   "source": [
    "for k,v in ticker_df_dict.items():\n",
    "    tmp = v.reset_index().set_index('date')\n",
    "    tmp.to_csv(f\"./bt_stock_data1/{k}.csv\")"
   ]
  },
  {
   "cell_type": "code",
   "execution_count": null,
   "metadata": {},
   "outputs": [],
   "source": []
  }
 ],
 "metadata": {
  "kernelspec": {
   "display_name": "Python 3.9.7 ('base')",
   "language": "python",
   "name": "python3"
  },
  "language_info": {
   "codemirror_mode": {
    "name": "ipython",
    "version": 3
   },
   "file_extension": ".py",
   "mimetype": "text/x-python",
   "name": "python",
   "nbconvert_exporter": "python",
   "pygments_lexer": "ipython3",
   "version": "3.9.7"
  },
  "orig_nbformat": 4,
  "vscode": {
   "interpreter": {
    "hash": "ad2bdc8ecc057115af97d19610ffacc2b4e99fae6737bb82f5d7fb13d2f2c186"
   }
  }
 },
 "nbformat": 4,
 "nbformat_minor": 2
}
