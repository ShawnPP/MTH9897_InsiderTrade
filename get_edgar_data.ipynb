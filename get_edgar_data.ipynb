{
 "cells": [
  {
   "cell_type": "code",
   "execution_count": 16,
   "metadata": {},
   "outputs": [],
   "source": [
    "import pandas as pd\n",
    "import numpy as np\n",
    "import xml.etree.ElementTree as ET\n",
    "from get_edgar_data import ParseXML\n",
    "import os\n",
    "from tqdm import tqdm"
   ]
  },
  {
   "cell_type": "markdown",
   "metadata": {},
   "source": [
    "### Turn filings into dataframe"
   ]
  },
  {
   "cell_type": "code",
   "execution_count": 36,
   "metadata": {},
   "outputs": [],
   "source": [
    "class ParseXML:\n",
    "    @staticmethod\n",
    "    def calc_transactionAmounts(xmlpath):\n",
    "        \"\"\"Calculate the total transaction amount in $ of a giving form 4 in XML\"\"\"\n",
    "        xml = ET.parse(xmlpath).getroot()\n",
    "        total = 0\n",
    "\n",
    "        if xml is None:\n",
    "            return total\n",
    "\n",
    "        nonDerivativeTransactions = xml.findall(\n",
    "            \"./nonDerivativeTable/nonDerivativeTransaction\"\n",
    "        )\n",
    "\n",
    "        for t in nonDerivativeTransactions:\n",
    "            # D for disposed or A for acquired\n",
    "            action = t.find(\n",
    "                \"./transactionAmounts/transactionAcquiredDisposedCode/value\"\n",
    "            ).text\n",
    "            # number of shares disposed/acquired\n",
    "            shares = t.find(\"./transactionAmounts/transactionShares/value\").text\n",
    "            # price\n",
    "            priceRaw = t.find(\"./transactionAmounts/transactionPricePerShare/value\")\n",
    "            price = 0 if priceRaw is None else priceRaw.text\n",
    "            # set prefix to -1 if derivatives were disposed. set prefix to 1 if derivates were acquired.\n",
    "            prefix = -1 if action == \"D\" else 1\n",
    "            # calculate transaction amount in $\n",
    "            amount = prefix * float(shares) * float(price)\n",
    "            total += amount\n",
    "\n",
    "        return round(total, 2)\n",
    "\n",
    "    @staticmethod\n",
    "    def calc_transactionPricePerShare(xmlpath):\n",
    "        \"\"\"Calculate the avg transaction price per share in $ of a giving form 4 in XML\"\"\"\n",
    "        xml = ET.parse(xmlpath).getroot()\n",
    "        if xml is None:\n",
    "            return np.nan\n",
    "\n",
    "        nonDerivativeTransactions = xml.findall(\n",
    "            \"./nonDerivativeTable/nonDerivativeTransaction\"\n",
    "        )\n",
    "\n",
    "        prices = []\n",
    "        shares = []\n",
    "        for t in nonDerivativeTransactions:\n",
    "            action = t.find(\n",
    "                \"./transactionAmounts/transactionAcquiredDisposedCode/value\"\n",
    "            ).text\n",
    "            shareRaw = t.find(\"./transactionAmounts/transactionShares/value\").text\n",
    "            priceRaw = t.find(\"./transactionAmounts/transactionPricePerShare/value\")\n",
    "            if not priceRaw is None:\n",
    "                prices.append(float(priceRaw.text) * float(shareRaw))\n",
    "                shares.append(float(shareRaw))\n",
    "\n",
    "        if (len(prices) > 0) and (len(shares) >0) and (np.sum(shares)!=0):\n",
    "            return np.sum(prices) / np.sum(shares)\n",
    "        else:\n",
    "            return np.nan\n",
    "\n",
    "    @staticmethod\n",
    "    def calc_transactionShares(xmlpath):\n",
    "        \"\"\"Calculate the avg transaction price per share in $ of a giving form 4 in XML\"\"\"\n",
    "        xml = ET.parse(xmlpath).getroot()\n",
    "\n",
    "        if xml is None:\n",
    "            return np.nan\n",
    "\n",
    "        nonDerivativeTransactions = xml.findall(\n",
    "            \"./nonDerivativeTable/nonDerivativeTransaction\"\n",
    "        )\n",
    "\n",
    "        shares = []\n",
    "        for t in nonDerivativeTransactions:\n",
    "            action = t.find(\n",
    "                \"./transactionAmounts/transactionAcquiredDisposedCode/value\"\n",
    "            ).text\n",
    "            shareRaw = t.find(\"./transactionAmounts/transactionShares/value\")\n",
    "            prefix = -1 if action == \"D\" else 1\n",
    "            if not shareRaw is None:\n",
    "                shares.append(prefix * float(shareRaw.text))\n",
    "\n",
    "        if len(shares) > 0:\n",
    "            return np.sum(shares)\n",
    "        else:\n",
    "            return np.nan\n",
    "\n",
    "    @staticmethod\n",
    "    def calc_absTransactionShares(xmlpath):\n",
    "        \"\"\"Calculate the avg transaction price per share in $ of a giving form 4 in XML\"\"\"\n",
    "        xml = ET.parse(xmlpath).getroot()\n",
    "        if xml is None:\n",
    "            return np.nan\n",
    "\n",
    "        nonDerivativeTransactions = xml.findall(\n",
    "            \"./nonDerivativeTable/nonDerivativeTransaction\"\n",
    "        )\n",
    "\n",
    "        shares = []\n",
    "        for t in nonDerivativeTransactions:\n",
    "            shareRaw = t.find(\"./transactionAmounts/transactionShares/value\")\n",
    "            if not shareRaw is None:\n",
    "                shares.append(float(shareRaw.text))\n",
    "        if len(shares) > 0:\n",
    "            return np.sum(shares)\n",
    "        else:\n",
    "            return np.nan"
   ]
  },
  {
   "cell_type": "code",
   "execution_count": 37,
   "metadata": {},
   "outputs": [
    {
     "data": {
      "text/plain": [
       "191.72"
      ]
     },
     "execution_count": 37,
     "metadata": {},
     "output_type": "execute_result"
    }
   ],
   "source": [
    "def get_filed_date(filingDir):\n",
    "    \"\"\"\n",
    "    return format: str, 20180109\n",
    "    \"\"\"\n",
    "    import re\n",
    "    with open(filingDir + \"/full-submission.txt\", \"r\") as f:\n",
    "        content = f.read()\n",
    "    date = re.search(\"FILED AS OF DATE:[\\s]*[0-9]{8}\", content).group()[-8:]\n",
    "    return pd.Timestamp(date)\n",
    "\n",
    "filingDir = \"./sec-edgar-filings/AAP\\\\4\\\\0000921895-18-000108\"\n",
    "xmlpath = filingDir + \"/filing-details.xml\"\n",
    "ParseXML.calc_transactionAmounts(xmlpath=xmlpath)"
   ]
  },
  {
   "cell_type": "markdown",
   "metadata": {},
   "source": [
    "### Get EDGAR stats for AAPL"
   ]
  },
  {
   "cell_type": "code",
   "execution_count": 38,
   "metadata": {},
   "outputs": [],
   "source": [
    "edgarDir = \"./sec-edgar-filings/\"\n",
    "ticker = \"BIO\"\n",
    "filingsDir = edgarDir + \"/\" + ticker + \"/4/\"\n",
    "dates = []\n",
    "transactionPricePerShare = []\n",
    "transactionShares = []\n",
    "absTransactionShares = []\n",
    "transactionAmounts = []\n",
    "filingName = []\n",
    "for filingDir in os.listdir(filingsDir):\n",
    "    dates.append(get_filed_date(filingsDir + \"/\" + filingDir))\n",
    "    xmlpath = filingsDir + \"/\" + filingDir + \"/filing-details.xml\" \n",
    "    transactionPricePerShare.append(ParseXML.calc_transactionPricePerShare(xmlpath=xmlpath))\n",
    "    transactionShares.append(ParseXML.calc_transactionShares(xmlpath=xmlpath))\n",
    "    absTransactionShares.append(ParseXML.calc_absTransactionShares(xmlpath=xmlpath))\n",
    "    transactionAmounts.append(ParseXML.calc_transactionAmounts(xmlpath=xmlpath))\n",
    "    filingName.append(filingDir)"
   ]
  },
  {
   "cell_type": "code",
   "execution_count": 45,
   "metadata": {},
   "outputs": [
    {
     "data": {
      "text/plain": [
       "'2018-01-02'"
      ]
     },
     "execution_count": 45,
     "metadata": {},
     "output_type": "execute_result"
    }
   ],
   "source": [
    "df_stock = pd.read_csv(f\"./stock_data/{ticker}.csv\", index_col=0)\n",
    "df_stock.index[0]"
   ]
  },
  {
   "cell_type": "code",
   "execution_count": 46,
   "metadata": {},
   "outputs": [],
   "source": [
    "df_data = pd.DataFrame.from_dict({\n",
    "    \"date\": dates,\n",
    "    \"transactionPricePerShare\": transactionPricePerShare, \n",
    "    \"transactionShares\": transactionShares, \n",
    "    \"absTransactionShares\": absTransactionShares, \n",
    "    \"transactionAmounts\": transactionAmounts,\n",
    "    \"filingName\": filingName\n",
    "})\n",
    "df_data = df_data.set_index('date')"
   ]
  },
  {
   "cell_type": "code",
   "execution_count": 47,
   "metadata": {},
   "outputs": [],
   "source": [
    "# df_data.to_csv(f\"./edgar_data/{ticker}.csv\")\n",
    "df_stats = df_data.groupby(level=0).sum()\n",
    "df_stats['numTransactions'] = df_data.groupby(\"date\")['transactionAmounts'].count()\n",
    "# df_stats.to_csv(f\"./stock_edgar_stats/{ticker}.csv\")\n",
    "df_stats.index = df_stats.index.strftime('%Y-%m-%d')\n",
    "df_stock = pd.read_csv(f\"./stock_data/{ticker}.csv\", index_col=0)\n",
    "# df_stock.merge(df_stats, left_index=True, right_index=True, how='outer').to_csv(f\"./bt_stock_data/{ticker}.csv\")"
   ]
  },
  {
   "cell_type": "code",
   "execution_count": 59,
   "metadata": {},
   "outputs": [
    {
     "data": {
      "text/plain": [
       "ticker               BIO\n",
       "open          238.669998\n",
       "high          241.979996\n",
       "low           238.229996\n",
       "close         241.419998\n",
       "volume          169473.0\n",
       "adj_factor           1.0\n",
       "Name: 2018-01-02, dtype: object"
      ]
     },
     "execution_count": 59,
     "metadata": {},
     "output_type": "execute_result"
    }
   ],
   "source": [
    "df_stock.dropna().loc['2018-01-02']"
   ]
  },
  {
   "cell_type": "code",
   "execution_count": 51,
   "metadata": {},
   "outputs": [
    {
     "data": {
      "text/html": [
       "<div>\n",
       "<style scoped>\n",
       "    .dataframe tbody tr th:only-of-type {\n",
       "        vertical-align: middle;\n",
       "    }\n",
       "\n",
       "    .dataframe tbody tr th {\n",
       "        vertical-align: top;\n",
       "    }\n",
       "\n",
       "    .dataframe thead th {\n",
       "        text-align: right;\n",
       "    }\n",
       "</style>\n",
       "<table border=\"1\" class=\"dataframe\">\n",
       "  <thead>\n",
       "    <tr style=\"text-align: right;\">\n",
       "      <th></th>\n",
       "      <th>transactionPricePerShare</th>\n",
       "      <th>transactionShares</th>\n",
       "      <th>absTransactionShares</th>\n",
       "      <th>transactionAmounts</th>\n",
       "      <th>numTransactions</th>\n",
       "    </tr>\n",
       "    <tr>\n",
       "      <th>date</th>\n",
       "      <th></th>\n",
       "      <th></th>\n",
       "      <th></th>\n",
       "      <th></th>\n",
       "      <th></th>\n",
       "    </tr>\n",
       "  </thead>\n",
       "  <tbody>\n",
       "    <tr>\n",
       "      <th>2018-01-04</th>\n",
       "      <td>0.000000</td>\n",
       "      <td>5000.0</td>\n",
       "      <td>5000.0</td>\n",
       "      <td>0.00</td>\n",
       "      <td>1</td>\n",
       "    </tr>\n",
       "    <tr>\n",
       "      <th>2018-01-05</th>\n",
       "      <td>227.094948</td>\n",
       "      <td>-1000.0</td>\n",
       "      <td>15500.0</td>\n",
       "      <td>-1392190.53</td>\n",
       "      <td>2</td>\n",
       "    </tr>\n",
       "    <tr>\n",
       "      <th>2018-01-09</th>\n",
       "      <td>824.393472</td>\n",
       "      <td>-13552.0</td>\n",
       "      <td>16164.0</td>\n",
       "      <td>-2570250.15</td>\n",
       "      <td>6</td>\n",
       "    </tr>\n",
       "    <tr>\n",
       "      <th>2018-01-12</th>\n",
       "      <td>0.000000</td>\n",
       "      <td>0.0</td>\n",
       "      <td>0.0</td>\n",
       "      <td>0.00</td>\n",
       "      <td>4</td>\n",
       "    </tr>\n",
       "    <tr>\n",
       "      <th>2018-02-01</th>\n",
       "      <td>246.398547</td>\n",
       "      <td>156037.0</td>\n",
       "      <td>240561.0</td>\n",
       "      <td>-6700676.66</td>\n",
       "      <td>8</td>\n",
       "    </tr>\n",
       "    <tr>\n",
       "      <th>...</th>\n",
       "      <td>...</td>\n",
       "      <td>...</td>\n",
       "      <td>...</td>\n",
       "      <td>...</td>\n",
       "      <td>...</td>\n",
       "    </tr>\n",
       "    <tr>\n",
       "      <th>2021-12-20</th>\n",
       "      <td>10.190000</td>\n",
       "      <td>22329.0</td>\n",
       "      <td>22329.0</td>\n",
       "      <td>227532.51</td>\n",
       "      <td>7</td>\n",
       "    </tr>\n",
       "    <tr>\n",
       "      <th>2021-12-21</th>\n",
       "      <td>46.330500</td>\n",
       "      <td>47533.0</td>\n",
       "      <td>107033.0</td>\n",
       "      <td>-459444.12</td>\n",
       "      <td>4</td>\n",
       "    </tr>\n",
       "    <tr>\n",
       "      <th>2021-12-22</th>\n",
       "      <td>12.220000</td>\n",
       "      <td>4300.0</td>\n",
       "      <td>4300.0</td>\n",
       "      <td>52546.00</td>\n",
       "      <td>1</td>\n",
       "    </tr>\n",
       "    <tr>\n",
       "      <th>2021-12-23</th>\n",
       "      <td>32.179800</td>\n",
       "      <td>-94843.0</td>\n",
       "      <td>94843.0</td>\n",
       "      <td>-1221855.16</td>\n",
       "      <td>3</td>\n",
       "    </tr>\n",
       "    <tr>\n",
       "      <th>2021-12-27</th>\n",
       "      <td>6.088242</td>\n",
       "      <td>-50498.0</td>\n",
       "      <td>186454.0</td>\n",
       "      <td>-882487.69</td>\n",
       "      <td>2</td>\n",
       "    </tr>\n",
       "  </tbody>\n",
       "</table>\n",
       "<p>559 rows × 5 columns</p>\n",
       "</div>"
      ],
      "text/plain": [
       "            transactionPricePerShare  transactionShares  absTransactionShares  \\\n",
       "date                                                                            \n",
       "2018-01-04                  0.000000             5000.0                5000.0   \n",
       "2018-01-05                227.094948            -1000.0               15500.0   \n",
       "2018-01-09                824.393472           -13552.0               16164.0   \n",
       "2018-01-12                  0.000000                0.0                   0.0   \n",
       "2018-02-01                246.398547           156037.0              240561.0   \n",
       "...                              ...                ...                   ...   \n",
       "2021-12-20                 10.190000            22329.0               22329.0   \n",
       "2021-12-21                 46.330500            47533.0              107033.0   \n",
       "2021-12-22                 12.220000             4300.0                4300.0   \n",
       "2021-12-23                 32.179800           -94843.0               94843.0   \n",
       "2021-12-27                  6.088242           -50498.0              186454.0   \n",
       "\n",
       "            transactionAmounts  numTransactions  \n",
       "date                                             \n",
       "2018-01-04                0.00                1  \n",
       "2018-01-05         -1392190.53                2  \n",
       "2018-01-09         -2570250.15                6  \n",
       "2018-01-12                0.00                4  \n",
       "2018-02-01         -6700676.66                8  \n",
       "...                        ...              ...  \n",
       "2021-12-20           227532.51                7  \n",
       "2021-12-21          -459444.12                4  \n",
       "2021-12-22            52546.00                1  \n",
       "2021-12-23         -1221855.16                3  \n",
       "2021-12-27          -882487.69                2  \n",
       "\n",
       "[559 rows x 5 columns]"
      ]
     },
     "execution_count": 51,
     "metadata": {},
     "output_type": "execute_result"
    }
   ],
   "source": [
    "df_stats"
   ]
  },
  {
   "cell_type": "code",
   "execution_count": 54,
   "metadata": {},
   "outputs": [
    {
     "data": {
      "text/html": [
       "<div>\n",
       "<style scoped>\n",
       "    .dataframe tbody tr th:only-of-type {\n",
       "        vertical-align: middle;\n",
       "    }\n",
       "\n",
       "    .dataframe tbody tr th {\n",
       "        vertical-align: top;\n",
       "    }\n",
       "\n",
       "    .dataframe thead th {\n",
       "        text-align: right;\n",
       "    }\n",
       "</style>\n",
       "<table border=\"1\" class=\"dataframe\">\n",
       "  <thead>\n",
       "    <tr style=\"text-align: right;\">\n",
       "      <th></th>\n",
       "      <th>ticker</th>\n",
       "      <th>open</th>\n",
       "      <th>high</th>\n",
       "      <th>low</th>\n",
       "      <th>close</th>\n",
       "      <th>volume</th>\n",
       "      <th>adj_factor</th>\n",
       "      <th>transactionPricePerShare</th>\n",
       "      <th>transactionShares</th>\n",
       "      <th>absTransactionShares</th>\n",
       "      <th>transactionAmounts</th>\n",
       "      <th>numTransactions</th>\n",
       "    </tr>\n",
       "    <tr>\n",
       "      <th>date</th>\n",
       "      <th></th>\n",
       "      <th></th>\n",
       "      <th></th>\n",
       "      <th></th>\n",
       "      <th></th>\n",
       "      <th></th>\n",
       "      <th></th>\n",
       "      <th></th>\n",
       "      <th></th>\n",
       "      <th></th>\n",
       "      <th></th>\n",
       "      <th></th>\n",
       "    </tr>\n",
       "  </thead>\n",
       "  <tbody>\n",
       "    <tr>\n",
       "      <th>2018-01-02</th>\n",
       "      <td>BIO</td>\n",
       "      <td>NaN</td>\n",
       "      <td>242.949997</td>\n",
       "      <td>241.300003</td>\n",
       "      <td>-242.125000</td>\n",
       "      <td>0.0</td>\n",
       "      <td>1.0</td>\n",
       "      <td>NaN</td>\n",
       "      <td>NaN</td>\n",
       "      <td>NaN</td>\n",
       "      <td>NaN</td>\n",
       "      <td>NaN</td>\n",
       "    </tr>\n",
       "    <tr>\n",
       "      <th>2018-01-02</th>\n",
       "      <td>BIO</td>\n",
       "      <td>238.669998</td>\n",
       "      <td>241.979996</td>\n",
       "      <td>238.229996</td>\n",
       "      <td>241.419998</td>\n",
       "      <td>169473.0</td>\n",
       "      <td>1.0</td>\n",
       "      <td>NaN</td>\n",
       "      <td>NaN</td>\n",
       "      <td>NaN</td>\n",
       "      <td>NaN</td>\n",
       "      <td>NaN</td>\n",
       "    </tr>\n",
       "    <tr>\n",
       "      <th>2018-01-03</th>\n",
       "      <td>BIO</td>\n",
       "      <td>NaN</td>\n",
       "      <td>253.500000</td>\n",
       "      <td>249.300003</td>\n",
       "      <td>-251.399994</td>\n",
       "      <td>0.0</td>\n",
       "      <td>1.0</td>\n",
       "      <td>NaN</td>\n",
       "      <td>NaN</td>\n",
       "      <td>NaN</td>\n",
       "      <td>NaN</td>\n",
       "      <td>NaN</td>\n",
       "    </tr>\n",
       "    <tr>\n",
       "      <th>2018-01-03</th>\n",
       "      <td>BIO</td>\n",
       "      <td>242.339996</td>\n",
       "      <td>251.850006</td>\n",
       "      <td>242.339996</td>\n",
       "      <td>250.470001</td>\n",
       "      <td>233223.0</td>\n",
       "      <td>1.0</td>\n",
       "      <td>NaN</td>\n",
       "      <td>NaN</td>\n",
       "      <td>NaN</td>\n",
       "      <td>NaN</td>\n",
       "      <td>NaN</td>\n",
       "    </tr>\n",
       "    <tr>\n",
       "      <th>2018-01-04</th>\n",
       "      <td>BIO</td>\n",
       "      <td>NaN</td>\n",
       "      <td>251.199997</td>\n",
       "      <td>248.350006</td>\n",
       "      <td>-249.774994</td>\n",
       "      <td>0.0</td>\n",
       "      <td>1.0</td>\n",
       "      <td>0.0</td>\n",
       "      <td>5000.0</td>\n",
       "      <td>5000.0</td>\n",
       "      <td>0.0</td>\n",
       "      <td>1.0</td>\n",
       "    </tr>\n",
       "    <tr>\n",
       "      <th>...</th>\n",
       "      <td>...</td>\n",
       "      <td>...</td>\n",
       "      <td>...</td>\n",
       "      <td>...</td>\n",
       "      <td>...</td>\n",
       "      <td>...</td>\n",
       "      <td>...</td>\n",
       "      <td>...</td>\n",
       "      <td>...</td>\n",
       "      <td>...</td>\n",
       "      <td>...</td>\n",
       "      <td>...</td>\n",
       "    </tr>\n",
       "    <tr>\n",
       "      <th>2021-12-29</th>\n",
       "      <td>BIO</td>\n",
       "      <td>747.500000</td>\n",
       "      <td>753.650024</td>\n",
       "      <td>741.380005</td>\n",
       "      <td>750.739990</td>\n",
       "      <td>62829.0</td>\n",
       "      <td>1.0</td>\n",
       "      <td>NaN</td>\n",
       "      <td>NaN</td>\n",
       "      <td>NaN</td>\n",
       "      <td>NaN</td>\n",
       "      <td>NaN</td>\n",
       "    </tr>\n",
       "    <tr>\n",
       "      <th>2021-12-30</th>\n",
       "      <td>BIO</td>\n",
       "      <td>NaN</td>\n",
       "      <td>761.229980</td>\n",
       "      <td>758.010010</td>\n",
       "      <td>-759.619995</td>\n",
       "      <td>0.0</td>\n",
       "      <td>1.0</td>\n",
       "      <td>NaN</td>\n",
       "      <td>NaN</td>\n",
       "      <td>NaN</td>\n",
       "      <td>NaN</td>\n",
       "      <td>NaN</td>\n",
       "    </tr>\n",
       "    <tr>\n",
       "      <th>2021-12-30</th>\n",
       "      <td>BIO</td>\n",
       "      <td>755.239990</td>\n",
       "      <td>761.525024</td>\n",
       "      <td>750.280029</td>\n",
       "      <td>758.650024</td>\n",
       "      <td>57620.0</td>\n",
       "      <td>1.0</td>\n",
       "      <td>NaN</td>\n",
       "      <td>NaN</td>\n",
       "      <td>NaN</td>\n",
       "      <td>NaN</td>\n",
       "      <td>NaN</td>\n",
       "    </tr>\n",
       "    <tr>\n",
       "      <th>2021-12-31</th>\n",
       "      <td>BIO</td>\n",
       "      <td>NaN</td>\n",
       "      <td>787.969971</td>\n",
       "      <td>754.719971</td>\n",
       "      <td>-771.344971</td>\n",
       "      <td>0.0</td>\n",
       "      <td>1.0</td>\n",
       "      <td>NaN</td>\n",
       "      <td>NaN</td>\n",
       "      <td>NaN</td>\n",
       "      <td>NaN</td>\n",
       "      <td>NaN</td>\n",
       "    </tr>\n",
       "    <tr>\n",
       "      <th>2021-12-31</th>\n",
       "      <td>BIO</td>\n",
       "      <td>756.260010</td>\n",
       "      <td>762.500000</td>\n",
       "      <td>752.619995</td>\n",
       "      <td>755.570007</td>\n",
       "      <td>81489.0</td>\n",
       "      <td>1.0</td>\n",
       "      <td>NaN</td>\n",
       "      <td>NaN</td>\n",
       "      <td>NaN</td>\n",
       "      <td>NaN</td>\n",
       "      <td>NaN</td>\n",
       "    </tr>\n",
       "  </tbody>\n",
       "</table>\n",
       "<p>2018 rows × 12 columns</p>\n",
       "</div>"
      ],
      "text/plain": [
       "           ticker        open        high         low       close    volume  \\\n",
       "date                                                                          \n",
       "2018-01-02    BIO         NaN  242.949997  241.300003 -242.125000       0.0   \n",
       "2018-01-02    BIO  238.669998  241.979996  238.229996  241.419998  169473.0   \n",
       "2018-01-03    BIO         NaN  253.500000  249.300003 -251.399994       0.0   \n",
       "2018-01-03    BIO  242.339996  251.850006  242.339996  250.470001  233223.0   \n",
       "2018-01-04    BIO         NaN  251.199997  248.350006 -249.774994       0.0   \n",
       "...           ...         ...         ...         ...         ...       ...   \n",
       "2021-12-29    BIO  747.500000  753.650024  741.380005  750.739990   62829.0   \n",
       "2021-12-30    BIO         NaN  761.229980  758.010010 -759.619995       0.0   \n",
       "2021-12-30    BIO  755.239990  761.525024  750.280029  758.650024   57620.0   \n",
       "2021-12-31    BIO         NaN  787.969971  754.719971 -771.344971       0.0   \n",
       "2021-12-31    BIO  756.260010  762.500000  752.619995  755.570007   81489.0   \n",
       "\n",
       "            adj_factor  transactionPricePerShare  transactionShares  \\\n",
       "date                                                                  \n",
       "2018-01-02         1.0                       NaN                NaN   \n",
       "2018-01-02         1.0                       NaN                NaN   \n",
       "2018-01-03         1.0                       NaN                NaN   \n",
       "2018-01-03         1.0                       NaN                NaN   \n",
       "2018-01-04         1.0                       0.0             5000.0   \n",
       "...                ...                       ...                ...   \n",
       "2021-12-29         1.0                       NaN                NaN   \n",
       "2021-12-30         1.0                       NaN                NaN   \n",
       "2021-12-30         1.0                       NaN                NaN   \n",
       "2021-12-31         1.0                       NaN                NaN   \n",
       "2021-12-31         1.0                       NaN                NaN   \n",
       "\n",
       "            absTransactionShares  transactionAmounts  numTransactions  \n",
       "date                                                                   \n",
       "2018-01-02                   NaN                 NaN              NaN  \n",
       "2018-01-02                   NaN                 NaN              NaN  \n",
       "2018-01-03                   NaN                 NaN              NaN  \n",
       "2018-01-03                   NaN                 NaN              NaN  \n",
       "2018-01-04                5000.0                 0.0              1.0  \n",
       "...                          ...                 ...              ...  \n",
       "2021-12-29                   NaN                 NaN              NaN  \n",
       "2021-12-30                   NaN                 NaN              NaN  \n",
       "2021-12-30                   NaN                 NaN              NaN  \n",
       "2021-12-31                   NaN                 NaN              NaN  \n",
       "2021-12-31                   NaN                 NaN              NaN  \n",
       "\n",
       "[2018 rows x 12 columns]"
      ]
     },
     "execution_count": 54,
     "metadata": {},
     "output_type": "execute_result"
    }
   ],
   "source": [
    "df_stock.merge(df_stats, left_index=True, right_index=True, how='outer')"
   ]
  },
  {
   "cell_type": "code",
   "execution_count": 10,
   "metadata": {},
   "outputs": [
    {
     "data": {
      "text/html": [
       "<div>\n",
       "<style scoped>\n",
       "    .dataframe tbody tr th:only-of-type {\n",
       "        vertical-align: middle;\n",
       "    }\n",
       "\n",
       "    .dataframe tbody tr th {\n",
       "        vertical-align: top;\n",
       "    }\n",
       "\n",
       "    .dataframe thead th {\n",
       "        text-align: right;\n",
       "    }\n",
       "</style>\n",
       "<table border=\"1\" class=\"dataframe\">\n",
       "  <thead>\n",
       "    <tr style=\"text-align: right;\">\n",
       "      <th></th>\n",
       "      <th>open</th>\n",
       "      <th>high</th>\n",
       "      <th>low</th>\n",
       "      <th>close</th>\n",
       "      <th>volume</th>\n",
       "      <th>adj_factor</th>\n",
       "      <th>transactionPricePerShare</th>\n",
       "      <th>transactionShares</th>\n",
       "      <th>absTransactionShares</th>\n",
       "      <th>transactionAmounts</th>\n",
       "      <th>numTransactions</th>\n",
       "    </tr>\n",
       "  </thead>\n",
       "  <tbody>\n",
       "    <tr>\n",
       "      <th>count</th>\n",
       "      <td>1008.000000</td>\n",
       "      <td>1008.000000</td>\n",
       "      <td>1008.000000</td>\n",
       "      <td>1008.000000</td>\n",
       "      <td>1.008000e+03</td>\n",
       "      <td>1008.0</td>\n",
       "      <td>111.000000</td>\n",
       "      <td>1.110000e+02</td>\n",
       "      <td>1.110000e+02</td>\n",
       "      <td>1.110000e+02</td>\n",
       "      <td>111.000000</td>\n",
       "    </tr>\n",
       "    <tr>\n",
       "      <th>mean</th>\n",
       "      <td>159.765734</td>\n",
       "      <td>161.727519</td>\n",
       "      <td>157.597685</td>\n",
       "      <td>159.717827</td>\n",
       "      <td>1.007191e+06</td>\n",
       "      <td>1.0</td>\n",
       "      <td>406.013709</td>\n",
       "      <td>-3.856324e+05</td>\n",
       "      <td>4.056308e+05</td>\n",
       "      <td>-5.896920e+05</td>\n",
       "      <td>3.243243</td>\n",
       "    </tr>\n",
       "    <tr>\n",
       "      <th>std</th>\n",
       "      <td>31.579776</td>\n",
       "      <td>31.589325</td>\n",
       "      <td>31.606835</td>\n",
       "      <td>31.587788</td>\n",
       "      <td>5.205922e+05</td>\n",
       "      <td>0.0</td>\n",
       "      <td>557.824709</td>\n",
       "      <td>1.711653e+06</td>\n",
       "      <td>1.707488e+06</td>\n",
       "      <td>7.750948e+06</td>\n",
       "      <td>3.464669</td>\n",
       "    </tr>\n",
       "    <tr>\n",
       "      <th>min</th>\n",
       "      <td>74.970001</td>\n",
       "      <td>79.940002</td>\n",
       "      <td>71.328598</td>\n",
       "      <td>75.029999</td>\n",
       "      <td>2.700920e+05</td>\n",
       "      <td>1.0</td>\n",
       "      <td>0.000000</td>\n",
       "      <td>-1.497789e+07</td>\n",
       "      <td>2.214000e+00</td>\n",
       "      <td>-8.121640e+07</td>\n",
       "      <td>1.000000</td>\n",
       "    </tr>\n",
       "    <tr>\n",
       "      <th>25%</th>\n",
       "      <td>140.985001</td>\n",
       "      <td>142.817501</td>\n",
       "      <td>139.399994</td>\n",
       "      <td>140.672493</td>\n",
       "      <td>6.860390e+05</td>\n",
       "      <td>1.0</td>\n",
       "      <td>0.000000</td>\n",
       "      <td>-2.352650e+04</td>\n",
       "      <td>5.184850e+02</td>\n",
       "      <td>0.000000e+00</td>\n",
       "      <td>1.000000</td>\n",
       "    </tr>\n",
       "    <tr>\n",
       "      <th>50%</th>\n",
       "      <td>157.335007</td>\n",
       "      <td>159.133698</td>\n",
       "      <td>155.449997</td>\n",
       "      <td>157.315002</td>\n",
       "      <td>9.008950e+05</td>\n",
       "      <td>1.0</td>\n",
       "      <td>155.780000</td>\n",
       "      <td>2.015600e+01</td>\n",
       "      <td>3.941000e+03</td>\n",
       "      <td>0.000000e+00</td>\n",
       "      <td>1.000000</td>\n",
       "    </tr>\n",
       "    <tr>\n",
       "      <th>75%</th>\n",
       "      <td>170.382500</td>\n",
       "      <td>171.570007</td>\n",
       "      <td>168.162502</td>\n",
       "      <td>170.064999</td>\n",
       "      <td>1.205077e+06</td>\n",
       "      <td>1.0</td>\n",
       "      <td>485.790000</td>\n",
       "      <td>7.862300e+02</td>\n",
       "      <td>4.629600e+04</td>\n",
       "      <td>7.162193e+04</td>\n",
       "      <td>4.000000</td>\n",
       "    </tr>\n",
       "    <tr>\n",
       "      <th>max</th>\n",
       "      <td>241.139999</td>\n",
       "      <td>243.050003</td>\n",
       "      <td>239.500000</td>\n",
       "      <td>241.910004</td>\n",
       "      <td>5.911983e+06</td>\n",
       "      <td>1.0</td>\n",
       "      <td>1899.450000</td>\n",
       "      <td>3.758350e+05</td>\n",
       "      <td>1.497789e+07</td>\n",
       "      <td>3.105715e+06</td>\n",
       "      <td>12.000000</td>\n",
       "    </tr>\n",
       "  </tbody>\n",
       "</table>\n",
       "</div>"
      ],
      "text/plain": [
       "              open         high          low        close        volume  \\\n",
       "count  1008.000000  1008.000000  1008.000000  1008.000000  1.008000e+03   \n",
       "mean    159.765734   161.727519   157.597685   159.717827  1.007191e+06   \n",
       "std      31.579776    31.589325    31.606835    31.587788  5.205922e+05   \n",
       "min      74.970001    79.940002    71.328598    75.029999  2.700920e+05   \n",
       "25%     140.985001   142.817501   139.399994   140.672493  6.860390e+05   \n",
       "50%     157.335007   159.133698   155.449997   157.315002  9.008950e+05   \n",
       "75%     170.382500   171.570007   168.162502   170.064999  1.205077e+06   \n",
       "max     241.139999   243.050003   239.500000   241.910004  5.911983e+06   \n",
       "\n",
       "       adj_factor  transactionPricePerShare  transactionShares  \\\n",
       "count      1008.0                111.000000       1.110000e+02   \n",
       "mean          1.0                406.013709      -3.856324e+05   \n",
       "std           0.0                557.824709       1.711653e+06   \n",
       "min           1.0                  0.000000      -1.497789e+07   \n",
       "25%           1.0                  0.000000      -2.352650e+04   \n",
       "50%           1.0                155.780000       2.015600e+01   \n",
       "75%           1.0                485.790000       7.862300e+02   \n",
       "max           1.0               1899.450000       3.758350e+05   \n",
       "\n",
       "       absTransactionShares  transactionAmounts  numTransactions  \n",
       "count          1.110000e+02        1.110000e+02       111.000000  \n",
       "mean           4.056308e+05       -5.896920e+05         3.243243  \n",
       "std            1.707488e+06        7.750948e+06         3.464669  \n",
       "min            2.214000e+00       -8.121640e+07         1.000000  \n",
       "25%            5.184850e+02        0.000000e+00         1.000000  \n",
       "50%            3.941000e+03        0.000000e+00         1.000000  \n",
       "75%            4.629600e+04        7.162193e+04         4.000000  \n",
       "max            1.497789e+07        3.105715e+06        12.000000  "
      ]
     },
     "execution_count": 10,
     "metadata": {},
     "output_type": "execute_result"
    }
   ],
   "source": [
    "df_stock.describe()"
   ]
  },
  {
   "cell_type": "code",
   "execution_count": 60,
   "metadata": {},
   "outputs": [],
   "source": [
    "def gen_bt_stock_data(ticker, edgarDir=\"./sec-edgar-filings/\", bt_stock_data_dir=\"./bt_stock_data/\"):\n",
    "    filingsDir = edgarDir + \"/\" + ticker + \"/4/\"\n",
    "    dates = []\n",
    "    transactionPricePerShare = []\n",
    "    transactionShares = []\n",
    "    absTransactionShares = []\n",
    "    transactionAmounts = []\n",
    "    filingName = []\n",
    "    for filingDir in os.listdir(filingsDir):\n",
    "        dates.append(get_filed_date(filingsDir + \"/\" + filingDir))\n",
    "        xmlpath = filingsDir + \"/\" + filingDir + \"/filing-details.xml\" \n",
    "        if os.path.exists(xmlpath):\n",
    "            transactionPricePerShare.append(ParseXML.calc_transactionPricePerShare(xmlpath=xmlpath))\n",
    "            transactionShares.append(ParseXML.calc_transactionShares(xmlpath=xmlpath))\n",
    "            absTransactionShares.append(ParseXML.calc_absTransactionShares(xmlpath=xmlpath))\n",
    "            transactionAmounts.append(ParseXML.calc_transactionAmounts(xmlpath=xmlpath))\n",
    "            filingName.append(filingDir)\n",
    "\n",
    "    df_data = pd.DataFrame.from_dict({\n",
    "        \"date\": dates,\n",
    "        \"transactionPricePerShare\": transactionPricePerShare, \n",
    "        \"transactionShares\": transactionShares, \n",
    "        \"absTransactionShares\": absTransactionShares, \n",
    "        \"transactionAmounts\": transactionAmounts,\n",
    "        \"filingName\": filingName\n",
    "    })\n",
    "    df_data = df_data.set_index('date')\n",
    "\n",
    "    df_data.to_csv(f\"./edgar_data/{ticker}.csv\")\n",
    "    df_stats = df_data.groupby(level=0).sum()\n",
    "    df_stats['numTransactions'] = df_data.groupby(\"date\")['transactionAmounts'].count()\n",
    "    df_stats.to_csv(f\"./stock_edgar_stats/{ticker}.csv\")\n",
    "    df_stats.index = df_stats.index.strftime('%Y-%m-%d')\n",
    "\n",
    "    df_stock = pd.read_csv(f\"./stock_data/{ticker}.csv\", index_col=0)\n",
    "    df_stock.dropna(inplace=True)\n",
    "    df_stock.merge(df_stats, left_index=True, right_index=True, how='outer').to_csv(f\"./bt_stock_data/{ticker}.csv\")\n",
    "    df_stock = df_stock.merge(df_stats, left_index=True, right_index=True, how='outer')\n",
    "    df_stock.to_csv(f\"{bt_stock_data_dir}/{ticker}.csv\")\n",
    "\n"
   ]
  },
  {
   "cell_type": "code",
   "execution_count": 61,
   "metadata": {},
   "outputs": [
    {
     "name": "stderr",
     "output_type": "stream",
     "text": [
      "  5%|▌         | 26/485 [01:10<19:28,  2.55s/it]"
     ]
    },
    {
     "name": "stdout",
     "output_type": "stream",
     "text": [
      "AMAT [Errno 2] No such file or directory: './sec-edgar-filings//AMAT/4//0001127602-21-030292/filing-details.xml'\n"
     ]
    },
    {
     "name": "stderr",
     "output_type": "stream",
     "text": [
      "  6%|▌         | 29/485 [01:13<13:34,  1.79s/it]"
     ]
    },
    {
     "name": "stdout",
     "output_type": "stream",
     "text": [
      "AME [Errno 2] No such file or directory: './sec-edgar-filings//AME/4//0001127602-19-022544/filing-details.xml'\n"
     ]
    },
    {
     "name": "stderr",
     "output_type": "stream",
     "text": [
      " 30%|███       | 147/485 [06:01<15:36,  2.77s/it]"
     ]
    },
    {
     "name": "stdout",
     "output_type": "stream",
     "text": [
      "EL [Errno 2] No such file or directory: './sec-edgar-filings//EL/4//0001001250-21-000190/filing-details.xml'\n"
     ]
    },
    {
     "name": "stderr",
     "output_type": "stream",
     "text": [
      " 33%|███▎      | 160/485 [06:27<13:29,  2.49s/it]"
     ]
    },
    {
     "name": "stdout",
     "output_type": "stream",
     "text": [
      "ETSY [Errno 2] No such file or directory: './sec-edgar-filings//ETSY/4//0001209191-21-040705/filing-details.xml'\n",
      "EVRG [Errno 2] No such file or directory: './sec-edgar-filings//EVRG/4//0001127602-18-021458/filing-details.xml'\n"
     ]
    },
    {
     "name": "stderr",
     "output_type": "stream",
     "text": [
      " 38%|███▊      | 182/485 [07:12<13:22,  2.65s/it]"
     ]
    },
    {
     "name": "stdout",
     "output_type": "stream",
     "text": [
      "FRC [WinError 3] The system cannot find the path specified: './sec-edgar-filings//FRC/4/'\n"
     ]
    },
    {
     "name": "stderr",
     "output_type": "stream",
     "text": [
      " 40%|███▉      | 193/485 [07:37<12:48,  2.63s/it]"
     ]
    },
    {
     "name": "stdout",
     "output_type": "stream",
     "text": [
      "GNRC [WinError 3] The system cannot find the path specified: './sec-edgar-filings//GNRC/4/'\n"
     ]
    },
    {
     "name": "stderr",
     "output_type": "stream",
     "text": [
      " 40%|████      | 195/485 [07:42<12:06,  2.50s/it]"
     ]
    },
    {
     "name": "stdout",
     "output_type": "stream",
     "text": [
      "GOOGL [Errno 2] No such file or directory: './sec-edgar-filings//GOOGL/4//0001209191-21-048409/filing-details.xml'\n"
     ]
    },
    {
     "name": "stderr",
     "output_type": "stream",
     "text": [
      " 41%|████      | 199/485 [07:50<10:44,  2.25s/it]"
     ]
    },
    {
     "name": "stdout",
     "output_type": "stream",
     "text": [
      "GS [Errno 2] No such file or directory: './sec-edgar-filings//GS/4//0000769993-20-000044/filing-details.xml'\n"
     ]
    },
    {
     "name": "stderr",
     "output_type": "stream",
     "text": [
      " 49%|████▉     | 237/485 [09:25<06:49,  1.65s/it]"
     ]
    },
    {
     "name": "stdout",
     "output_type": "stream",
     "text": [
      "IT [Errno 2] No such file or directory: './sec-edgar-filings//IT/4//0001127602-18-005545/filing-details.xml'\n"
     ]
    },
    {
     "name": "stderr",
     "output_type": "stream",
     "text": [
      " 61%|██████    | 294/485 [11:55<05:08,  1.62s/it]"
     ]
    },
    {
     "name": "stdout",
     "output_type": "stream",
     "text": [
      "MO [Errno 2] No such file or directory: './sec-edgar-filings//MO/4//0001567619-21-018098/filing-details.xml'\n"
     ]
    },
    {
     "name": "stderr",
     "output_type": "stream",
     "text": [
      " 64%|██████▍   | 312/485 [12:38<05:43,  1.99s/it]"
     ]
    },
    {
     "name": "stdout",
     "output_type": "stream",
     "text": [
      "NEE [Errno 2] No such file or directory: './sec-edgar-filings//NEE/4//0001062993-21-013379/filing-details.xml'\n"
     ]
    },
    {
     "name": "stderr",
     "output_type": "stream",
     "text": [
      " 71%|███████   | 345/485 [14:20<07:16,  3.12s/it]"
     ]
    },
    {
     "name": "stdout",
     "output_type": "stream",
     "text": [
      "PCG [Errno 2] No such file or directory: './sec-edgar-filings//PCG/4//0001127602-18-014046/filing-details.xml'\n"
     ]
    },
    {
     "name": "stderr",
     "output_type": "stream",
     "text": [
      " 74%|███████▍  | 359/485 [15:48<08:19,  3.97s/it]"
     ]
    },
    {
     "name": "stdout",
     "output_type": "stream",
     "text": [
      "PM [Errno 2] No such file or directory: './sec-edgar-filings//PM/4//0001567619-21-007444/filing-details.xml'\n"
     ]
    },
    {
     "name": "stderr",
     "output_type": "stream",
     "text": [
      " 80%|████████  | 390/485 [17:04<03:54,  2.47s/it]"
     ]
    },
    {
     "name": "stdout",
     "output_type": "stream",
     "text": [
      "SBNY [WinError 3] The system cannot find the path specified: './sec-edgar-filings//SBNY/4/'\n"
     ]
    },
    {
     "name": "stderr",
     "output_type": "stream",
     "text": [
      " 98%|█████████▊| 473/485 [21:05<00:24,  2.01s/it]"
     ]
    },
    {
     "name": "stdout",
     "output_type": "stream",
     "text": [
      "WTW [WinError 3] The system cannot find the path specified: './sec-edgar-filings//WTW/4/'\n"
     ]
    },
    {
     "name": "stderr",
     "output_type": "stream",
     "text": [
      "100%|██████████| 485/485 [21:39<00:00,  2.68s/it]\n"
     ]
    }
   ],
   "source": [
    "for file in tqdm(os.listdir(\"./stock_data/\")):\n",
    "    ticker = file[:-4]\n",
    "    try:\n",
    "        gen_bt_stock_data(ticker)\n",
    "    except Exception as e:\n",
    "        print(ticker, e)"
   ]
  },
  {
   "cell_type": "code",
   "execution_count": 78,
   "metadata": {},
   "outputs": [
    {
     "name": "stderr",
     "output_type": "stream",
     "text": [
      "100%|██████████| 469/469 [00:01<00:00, 373.09it/s]\n"
     ]
    }
   ],
   "source": [
    "df0 = pd.read_csv(f\"./bt_stock_data/AAL.csv\", index_col=0)\n",
    "bad_tickers = []\n",
    "for file in tqdm(os.listdir(\"./bt_stock_data/\")):\n",
    "       df = pd.read_csv(f\"./bt_stock_data/{file}\", index_col=0)\n",
    "       if len(df.index) != len(df0.index):\n",
    "              bad_tickers.append(file[:-4])"
   ]
  },
  {
   "cell_type": "code",
   "execution_count": 80,
   "metadata": {},
   "outputs": [
    {
     "data": {
      "text/plain": [
       "163"
      ]
     },
     "execution_count": 80,
     "metadata": {},
     "output_type": "execute_result"
    }
   ],
   "source": [
    "len(bad_tickers)"
   ]
  }
 ],
 "metadata": {
  "kernelspec": {
   "display_name": "Python 3.9.7 ('base')",
   "language": "python",
   "name": "python3"
  },
  "language_info": {
   "codemirror_mode": {
    "name": "ipython",
    "version": 3
   },
   "file_extension": ".py",
   "mimetype": "text/x-python",
   "name": "python",
   "nbconvert_exporter": "python",
   "pygments_lexer": "ipython3",
   "version": "3.9.7"
  },
  "orig_nbformat": 4,
  "vscode": {
   "interpreter": {
    "hash": "ad2bdc8ecc057115af97d19610ffacc2b4e99fae6737bb82f5d7fb13d2f2c186"
   }
  }
 },
 "nbformat": 4,
 "nbformat_minor": 2
}
