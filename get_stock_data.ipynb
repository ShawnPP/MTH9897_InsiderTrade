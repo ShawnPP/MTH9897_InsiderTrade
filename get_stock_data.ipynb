{
 "cells": [
  {
   "cell_type": "code",
   "execution_count": 1,
   "metadata": {},
   "outputs": [],
   "source": [
    "%load_ext autoreload\n",
    "%autoreload 2\n",
    "%matplotlib inline"
   ]
  },
  {
   "cell_type": "code",
   "execution_count": 2,
   "metadata": {},
   "outputs": [],
   "source": [
    "import pandas as pd\n",
    "import numpy as np\n",
    "import datetime as dt\n",
    "import wrds\n",
    "import matplotlib.pyplot as plt\n",
    "from dateutil.relativedelta import *\n",
    "from pandas.tseries.offsets import *\n",
    "from scipy import stats\n",
    "\n",
    "from get_stock_data import GetStockData"
   ]
  },
  {
   "cell_type": "code",
   "execution_count": 28,
   "metadata": {},
   "outputs": [
    {
     "name": "stdout",
     "output_type": "stream",
     "text": [
      "Loading library list...\n",
      "Done\n"
     ]
    }
   ],
   "source": [
    "username = \"mth989722\"\n",
    "password = \"SystTrade2022\"\n",
    "conn = wrds.Connection(wrds_username='mth989722')"
   ]
  },
  {
   "cell_type": "code",
   "execution_count": 4,
   "metadata": {},
   "outputs": [],
   "source": [
    "# conn.describe_table(library='crsp', table='dsf')\n",
    "# conn.describe_table(library='crsp', table='msenames')"
   ]
  },
  {
   "cell_type": "markdown",
   "metadata": {},
   "source": [
    "### Get S&P 500 Constituent Stock List"
   ]
  },
  {
   "cell_type": "code",
   "execution_count": 5,
   "metadata": {},
   "outputs": [],
   "source": [
    "import bs4 as bs\n",
    "import requests\n",
    "import yfinance as yf\n",
    "import datetime\n",
    "from sec_edgar_downloader import Downloader"
   ]
  },
  {
   "cell_type": "code",
   "execution_count": 6,
   "metadata": {},
   "outputs": [],
   "source": [
    "resp = requests.get('http://en.wikipedia.org/wiki/List_of_S%26P_500_companies')\n",
    "soup = bs.BeautifulSoup(resp.text, 'lxml')\n",
    "table = soup.find('table', {'class': 'wikitable sortable'})"
   ]
  },
  {
   "cell_type": "code",
   "execution_count": 7,
   "metadata": {},
   "outputs": [],
   "source": [
    "sp500_tickers = []\n",
    "\n",
    "for row in table.findAll('tr')[1:]:\n",
    "    ticker = row.findAll('td')[0].text\n",
    "    sp500_tickers.append(ticker)\n",
    "sp500_tickers = [s.replace(\"\\n\", \"\") for s in sp500_tickers]"
   ]
  },
  {
   "cell_type": "markdown",
   "metadata": {},
   "source": [
    "### Download edgar/stock data for S&P500 stocks"
   ]
  },
  {
   "cell_type": "code",
   "execution_count": 30,
   "metadata": {},
   "outputs": [
    {
     "name": "stderr",
     "output_type": "stream",
     "text": [
      "  0%|          | 0/503 [00:00<?, ?it/s]"
     ]
    },
    {
     "name": "stdout",
     "output_type": "stream",
     "text": [
      "Start downloading  A\n"
     ]
    },
    {
     "name": "stderr",
     "output_type": "stream",
     "text": [
      "  3%|▎         | 14/503 [00:41<23:52,  2.93s/it]"
     ]
    },
    {
     "name": "stdout",
     "output_type": "stream",
     "text": [
      "Error ticker:  A , error:  Edgar Search API encountered an error: Result window is too large, from + size must be less than or equal to: [10000] but was [10100]. See the scroll api for a more efficient way to request large data sets. This limit can be set by changing the [index.max_result_window] index level setting.. Request payload:\n",
      "{'dateRange': 'custom', 'startdt': '2018-01-01', 'enddt': '2021-12-31', 'entityName': 'A', 'forms': ['4'], 'from': 10000, 'q': ''}\n",
      "Start downloading  T\n"
     ]
    },
    {
     "name": "stderr",
     "output_type": "stream",
     "text": [
      " 10%|█         | 52/503 [01:17<10:15,  1.37s/it]"
     ]
    },
    {
     "name": "stdout",
     "output_type": "stream",
     "text": [
      "Error ticker:  T , error:  Edgar Search API encountered an error: Result window is too large, from + size must be less than or equal to: [10000] but was [10100]. See the scroll api for a more efficient way to request large data sets. This limit can be set by changing the [index.max_result_window] index level setting.. Request payload:\n",
      "{'dateRange': 'custom', 'startdt': '2018-01-01', 'enddt': '2021-12-31', 'entityName': 'T', 'forms': ['4'], 'from': 10000, 'q': ''}\n",
      "Empty data, ticker: BALL\n",
      "Empty data, ticker: BRK.B\n",
      "Empty data, ticker: BF.B\n",
      "Start downloading  C\n"
     ]
    },
    {
     "name": "stderr",
     "output_type": "stream",
     "text": [
      " 22%|██▏       | 113/503 [02:00<06:04,  1.07it/s]"
     ]
    },
    {
     "name": "stdout",
     "output_type": "stream",
     "text": [
      "Error ticker:  C , error:  Edgar Search API encountered an error: Result window is too large, from + size must be less than or equal to: [10000] but was [10100]. See the scroll api for a more efficient way to request large data sets. This limit can be set by changing the [index.max_result_window] index level setting.. Request payload:\n",
      "{'dateRange': 'custom', 'startdt': '2018-01-01', 'enddt': '2021-12-31', 'entityName': 'C', 'forms': ['4'], 'from': 10000, 'q': ''}\n",
      "Empty data, ticker: CEG\n",
      "Start downloading  DE\n"
     ]
    },
    {
     "name": "stderr",
     "output_type": "stream",
     "text": [
      " 28%|██▊       | 143/503 [02:40<06:21,  1.06s/it]"
     ]
    },
    {
     "name": "stdout",
     "output_type": "stream",
     "text": [
      "Error ticker:  DE , error:  Edgar Search API encountered an error: Result window is too large, from + size must be less than or equal to: [10000] but was [10100]. See the scroll api for a more efficient way to request large data sets. This limit can be set by changing the [index.max_result_window] index level setting.. Request payload:\n",
      "{'dateRange': 'custom', 'startdt': '2018-01-01', 'enddt': '2021-12-31', 'entityName': 'DE', 'forms': ['4'], 'from': 10000, 'q': ''}\n",
      "Start downloading  D\n"
     ]
    },
    {
     "name": "stderr",
     "output_type": "stream",
     "text": [
      " 31%|███       | 155/503 [03:16<07:51,  1.35s/it]"
     ]
    },
    {
     "name": "stdout",
     "output_type": "stream",
     "text": [
      "Error ticker:  D , error:  Edgar Search API encountered an error: Result window is too large, from + size must be less than or equal to: [10000] but was [10100]. See the scroll api for a more efficient way to request large data sets. This limit can be set by changing the [index.max_result_window] index level setting.. Request payload:\n",
      "{'dateRange': 'custom', 'startdt': '2018-01-01', 'enddt': '2021-12-31', 'entityName': 'D', 'forms': ['4'], 'from': 10000, 'q': ''}\n",
      "Empty data, ticker: ELV\n",
      "Start downloading  FDS\n"
     ]
    },
    {
     "name": "stderr",
     "output_type": "stream",
     "text": [
      " 38%|███▊      | 193/503 [05:04<10:09,  1.97s/it]"
     ]
    },
    {
     "name": "stdout",
     "output_type": "stream",
     "text": [
      "Start downloading  FAST\n"
     ]
    },
    {
     "name": "stderr",
     "output_type": "stream",
     "text": [
      " 39%|███▊      | 194/503 [06:39<17:17,  3.36s/it]"
     ]
    },
    {
     "name": "stdout",
     "output_type": "stream",
     "text": [
      "Start downloading  FRT\n"
     ]
    },
    {
     "name": "stderr",
     "output_type": "stream",
     "text": [
      " 39%|███▉      | 195/503 [07:11<20:23,  3.97s/it]"
     ]
    },
    {
     "name": "stdout",
     "output_type": "stream",
     "text": [
      "Start downloading  FDX\n"
     ]
    },
    {
     "name": "stderr",
     "output_type": "stream",
     "text": [
      " 39%|███▉      | 196/503 [08:56<35:17,  6.90s/it]"
     ]
    },
    {
     "name": "stdout",
     "output_type": "stream",
     "text": [
      "Start downloading  FITB\n"
     ]
    },
    {
     "name": "stderr",
     "output_type": "stream",
     "text": [
      " 39%|███▉      | 197/503 [10:52<57:26, 11.26s/it]"
     ]
    },
    {
     "name": "stdout",
     "output_type": "stream",
     "text": [
      "Start downloading  FRC\n"
     ]
    },
    {
     "name": "stderr",
     "output_type": "stream",
     "text": [
      " 39%|███▉      | 198/503 [10:52<54:16, 10.68s/it]"
     ]
    },
    {
     "name": "stdout",
     "output_type": "stream",
     "text": [
      "Start downloading  FE\n"
     ]
    },
    {
     "name": "stderr",
     "output_type": "stream",
     "text": [
      " 40%|███▉      | 199/503 [13:33<1:48:53, 21.49s/it]"
     ]
    },
    {
     "name": "stdout",
     "output_type": "stream",
     "text": [
      "Start downloading  FIS\n"
     ]
    },
    {
     "name": "stderr",
     "output_type": "stream",
     "text": [
      " 40%|███▉      | 200/503 [16:34<3:03:21, 36.31s/it]"
     ]
    },
    {
     "name": "stdout",
     "output_type": "stream",
     "text": [
      "Start downloading  FISV\n",
      "Skipping full submission download for '0001209191-18-022267' due to network error: 429 Client Error: Too Many Requests for url: https://www.sec.gov/Archives/edgar/data/0000798354/000120919118022267/0001209191-18-022267.txt.\n",
      "Skipping filing detail download for '0001209191-18-022267' due to network error: 429 Client Error: Too Many Requests for url: https://www.sec.gov/Archives/edgar/data/0000798354/000120919118022267/doc4.xml.\n",
      "Skipping full submission download for '0001209191-18-022275' due to network error: 429 Client Error: Too Many Requests for url: https://www.sec.gov/Archives/edgar/data/0000798354/000120919118022275/0001209191-18-022275.txt.\n",
      "Skipping filing detail download for '0001209191-18-022275' due to network error: 429 Client Error: Too Many Requests for url: https://www.sec.gov/Archives/edgar/data/0000798354/000120919118022275/doc4.xml.\n",
      "Skipping full submission download for '0001209191-18-021145' due to network error: 429 Client Error: Too Many Requests for url: https://www.sec.gov/Archives/edgar/data/0000798354/000120919118021145/0001209191-18-021145.txt.\n",
      "Skipping filing detail download for '0001209191-18-021145' due to network error: 429 Client Error: Too Many Requests for url: https://www.sec.gov/Archives/edgar/data/0000798354/000120919118021145/doc4.xml.\n",
      "Skipping full submission download for '0001209191-18-013079' due to network error: 429 Client Error: Too Many Requests for url: https://www.sec.gov/Archives/edgar/data/0000798354/000120919118013079/0001209191-18-013079.txt.\n",
      "Skipping filing detail download for '0001209191-18-013079' due to network error: 429 Client Error: Too Many Requests for url: https://www.sec.gov/Archives/edgar/data/0000798354/000120919118013079/doc4.xml.\n",
      "Skipping full submission download for '0001209191-18-013090' due to network error: 429 Client Error: Too Many Requests for url: https://www.sec.gov/Archives/edgar/data/0000798354/000120919118013090/0001209191-18-013090.txt.\n",
      "Skipping filing detail download for '0001209191-18-013090' due to network error: 429 Client Error: Too Many Requests for url: https://www.sec.gov/Archives/edgar/data/0000798354/000120919118013090/doc4.xml.\n",
      "Skipping full submission download for '0001209191-18-013086' due to network error: 429 Client Error: Too Many Requests for url: https://www.sec.gov/Archives/edgar/data/0000798354/000120919118013086/0001209191-18-013086.txt.\n",
      "Skipping filing detail download for '0001209191-18-013086' due to network error: 429 Client Error: Too Many Requests for url: https://www.sec.gov/Archives/edgar/data/0000798354/000120919118013086/doc4.xml.\n",
      "Skipping full submission download for '0001209191-18-013058' due to network error: 429 Client Error: Too Many Requests for url: https://www.sec.gov/Archives/edgar/data/0000798354/000120919118013058/0001209191-18-013058.txt.\n",
      "Skipping filing detail download for '0001209191-18-013058' due to network error: 429 Client Error: Too Many Requests for url: https://www.sec.gov/Archives/edgar/data/0000798354/000120919118013058/doc4.xml.\n",
      "Skipping full submission download for '0001209191-18-012994' due to network error: 429 Client Error: Too Many Requests for url: https://www.sec.gov/Archives/edgar/data/0000798354/000120919118012994/0001209191-18-012994.txt.\n",
      "Skipping filing detail download for '0001209191-18-012994' due to network error: 429 Client Error: Too Many Requests for url: https://www.sec.gov/Archives/edgar/data/0000798354/000120919118012994/doc4.xml.\n",
      "Skipping full submission download for '0001209191-18-013026' due to network error: 429 Client Error: Too Many Requests for url: https://www.sec.gov/Archives/edgar/data/0000798354/000120919118013026/0001209191-18-013026.txt.\n",
      "Skipping filing detail download for '0001209191-18-013026' due to network error: 429 Client Error: Too Many Requests for url: https://www.sec.gov/Archives/edgar/data/0000798354/000120919118013026/doc4.xml.\n",
      "Skipping full submission download for '0001209191-18-013004' due to network error: 429 Client Error: Too Many Requests for url: https://www.sec.gov/Archives/edgar/data/0000798354/000120919118013004/0001209191-18-013004.txt.\n",
      "Skipping filing detail download for '0001209191-18-013004' due to network error: 429 Client Error: Too Many Requests for url: https://www.sec.gov/Archives/edgar/data/0000798354/000120919118013004/doc4.xml.\n",
      "Skipping full submission download for '0001209191-18-012987' due to network error: 429 Client Error: Too Many Requests for url: https://www.sec.gov/Archives/edgar/data/0000798354/000120919118012987/0001209191-18-012987.txt.\n",
      "Skipping filing detail download for '0001209191-18-012987' due to network error: 429 Client Error: Too Many Requests for url: https://www.sec.gov/Archives/edgar/data/0000798354/000120919118012987/doc4.xml.\n",
      "Skipping full submission download for '0001209191-18-013018' due to network error: 429 Client Error: Too Many Requests for url: https://www.sec.gov/Archives/edgar/data/0000798354/000120919118013018/0001209191-18-013018.txt.\n",
      "Skipping filing detail download for '0001209191-18-013018' due to network error: 429 Client Error: Too Many Requests for url: https://www.sec.gov/Archives/edgar/data/0000798354/000120919118013018/doc4.xml.\n",
      "Skipping full submission download for '0001209191-18-012075' due to network error: 429 Client Error: Too Many Requests for url: https://www.sec.gov/Archives/edgar/data/0000798354/000120919118012075/0001209191-18-012075.txt.\n",
      "Skipping filing detail download for '0001209191-18-012075' due to network error: 429 Client Error: Too Many Requests for url: https://www.sec.gov/Archives/edgar/data/0000798354/000120919118012075/doc4.xml.\n",
      "Skipping full submission download for '0001209191-18-012078' due to network error: 429 Client Error: Too Many Requests for url: https://www.sec.gov/Archives/edgar/data/0000798354/000120919118012078/0001209191-18-012078.txt.\n",
      "Skipping filing detail download for '0001209191-18-012078' due to network error: 429 Client Error: Too Many Requests for url: https://www.sec.gov/Archives/edgar/data/0000798354/000120919118012078/doc4.xml.\n",
      "Skipping full submission download for '0001209191-18-012067' due to network error: 429 Client Error: Too Many Requests for url: https://www.sec.gov/Archives/edgar/data/0000798354/000120919118012067/0001209191-18-012067.txt.\n",
      "Skipping filing detail download for '0001209191-18-012067' due to network error: 429 Client Error: Too Many Requests for url: https://www.sec.gov/Archives/edgar/data/0000798354/000120919118012067/doc4.xml.\n",
      "Skipping full submission download for '0001209191-18-012073' due to network error: 429 Client Error: Too Many Requests for url: https://www.sec.gov/Archives/edgar/data/0000798354/000120919118012073/0001209191-18-012073.txt.\n",
      "Skipping filing detail download for '0001209191-18-012073' due to network error: 429 Client Error: Too Many Requests for url: https://www.sec.gov/Archives/edgar/data/0000798354/000120919118012073/doc4.xml.\n",
      "Skipping full submission download for '0001209191-18-012077' due to network error: 429 Client Error: Too Many Requests for url: https://www.sec.gov/Archives/edgar/data/0000798354/000120919118012077/0001209191-18-012077.txt.\n",
      "Skipping filing detail download for '0001209191-18-012077' due to network error: 429 Client Error: Too Many Requests for url: https://www.sec.gov/Archives/edgar/data/0000798354/000120919118012077/doc4.xml.\n",
      "Skipping full submission download for '0001209191-18-012070' due to network error: 429 Client Error: Too Many Requests for url: https://www.sec.gov/Archives/edgar/data/0000798354/000120919118012070/0001209191-18-012070.txt.\n",
      "Skipping filing detail download for '0001209191-18-012070' due to network error: 429 Client Error: Too Many Requests for url: https://www.sec.gov/Archives/edgar/data/0000798354/000120919118012070/doc4.xml.\n",
      "Skipping full submission download for '0001209191-18-012072' due to network error: 429 Client Error: Too Many Requests for url: https://www.sec.gov/Archives/edgar/data/0000798354/000120919118012072/0001209191-18-012072.txt.\n",
      "Skipping filing detail download for '0001209191-18-012072' due to network error: 429 Client Error: Too Many Requests for url: https://www.sec.gov/Archives/edgar/data/0000798354/000120919118012072/doc4.xml.\n",
      "Skipping full submission download for '0001209191-18-011338' due to network error: 429 Client Error: Too Many Requests for url: https://www.sec.gov/Archives/edgar/data/0000798354/000120919118011338/0001209191-18-011338.txt.\n",
      "Skipping filing detail download for '0001209191-18-011338' due to network error: 429 Client Error: Too Many Requests for url: https://www.sec.gov/Archives/edgar/data/0000798354/000120919118011338/doc4.xml.\n",
      "Skipping full submission download for '0001209191-18-004276' due to network error: 429 Client Error: Too Many Requests for url: https://www.sec.gov/Archives/edgar/data/0000798354/000120919118004276/0001209191-18-004276.txt.\n",
      "Skipping filing detail download for '0001209191-18-004276' due to network error: 429 Client Error: Too Many Requests for url: https://www.sec.gov/Archives/edgar/data/0000798354/000120919118004276/doc4.xml.\n",
      "Skipping full submission download for '0001209191-18-001114' due to network error: 429 Client Error: Too Many Requests for url: https://www.sec.gov/Archives/edgar/data/0000798354/000120919118001114/0001209191-18-001114.txt.\n",
      "Skipping filing detail download for '0001209191-18-001114' due to network error: 429 Client Error: Too Many Requests for url: https://www.sec.gov/Archives/edgar/data/0000798354/000120919118001114/doc4.xml.\n",
      "Skipping full submission download for '0001209191-18-001141' due to network error: 429 Client Error: Too Many Requests for url: https://www.sec.gov/Archives/edgar/data/0000798354/000120919118001141/0001209191-18-001141.txt.\n",
      "Skipping filing detail download for '0001209191-18-001141' due to network error: 429 Client Error: Too Many Requests for url: https://www.sec.gov/Archives/edgar/data/0000798354/000120919118001141/doc4.xml.\n",
      "Skipping full submission download for '0001209191-18-001123' due to network error: 429 Client Error: Too Many Requests for url: https://www.sec.gov/Archives/edgar/data/0000798354/000120919118001123/0001209191-18-001123.txt.\n"
     ]
    },
    {
     "name": "stderr",
     "output_type": "stream",
     "text": [
      " 40%|███▉      | 201/503 [18:22<3:44:49, 44.67s/it]"
     ]
    },
    {
     "name": "stdout",
     "output_type": "stream",
     "text": [
      "Skipping filing detail download for '0001209191-18-001123' due to network error: 429 Client Error: Too Many Requests for url: https://www.sec.gov/Archives/edgar/data/0000798354/000120919118001123/doc4.xml.\n",
      "Skipping full submission download for '0001209191-18-001132' due to network error: 429 Client Error: Too Many Requests for url: https://www.sec.gov/Archives/edgar/data/0000798354/000120919118001132/0001209191-18-001132.txt.\n",
      "Skipping filing detail download for '0001209191-18-001132' due to network error: 429 Client Error: Too Many Requests for url: https://www.sec.gov/Archives/edgar/data/0000798354/000120919118001132/doc4.xml.\n",
      "Skipping full submission download for '0001209191-18-001143' due to network error: 429 Client Error: Too Many Requests for url: https://www.sec.gov/Archives/edgar/data/0000798354/000120919118001143/0001209191-18-001143.txt.\n",
      "Skipping filing detail download for '0001209191-18-001143' due to network error: 429 Client Error: Too Many Requests for url: https://www.sec.gov/Archives/edgar/data/0000798354/000120919118001143/doc4.xml.\n",
      "Start downloading  FLT\n"
     ]
    },
    {
     "name": "stderr",
     "output_type": "stream",
     "text": [
      " 40%|████      | 202/503 [19:25<3:57:26, 47.33s/it]"
     ]
    },
    {
     "name": "stdout",
     "output_type": "stream",
     "text": [
      "Start downloading  FMC\n"
     ]
    },
    {
     "name": "stderr",
     "output_type": "stream",
     "text": [
      " 40%|████      | 203/503 [22:23<5:47:18, 69.46s/it]"
     ]
    },
    {
     "name": "stdout",
     "output_type": "stream",
     "text": [
      "Start downloading  F\n"
     ]
    }
   ],
   "source": [
    "import time\n",
    "from tqdm import tqdm\n",
    "from multiprocessing import Pool\n",
    "\n",
    "if not os.path.exists(\"./stock_data\"):\n",
    "    os.mkdir(\"./stock_data\")\n",
    "\n",
    "error_tickers = []\n",
    "\n",
    "def download_edgar_data(ticker, cnt, error_tickers):\n",
    "    try:\n",
    "        dl = Downloader(\"./\")\n",
    "        if not os.path.exists(f'./stock_data/{ticker}.csv'):\n",
    "            cnt[0] += 1\n",
    "            data = GetStockData._get_stock_data(conn=conn, ticker=ticker, startdate='01/01/2018', enddate='12/31/2021')\n",
    "            if not data is None:\n",
    "                print('Start downloading ', ticker)\n",
    "                dl.get(\"4\", ticker, after=\"2018-01-01\", before=\"2021-12-31\")\n",
    "                data.to_csv(f\"./stock_data/{ticker}.csv\")\n",
    "            if cnt[0] % 5 == 0:\n",
    "                time.sleep(90)\n",
    "        return None\n",
    "    except Exception as e: \n",
    "        print(\"Error ticker: \", ticker, \", error: \", e)\n",
    "        error_tickers.append(ticker)\n",
    "        return None\n",
    "\n",
    "cnt = 0\n",
    "for ticker in tqdm(sp500_tickers):\n",
    "    download_edgar_data(ticker, [cnt], error_tickers)"
   ]
  },
  {
   "cell_type": "code",
   "execution_count": null,
   "metadata": {},
   "outputs": [],
   "source": []
  }
 ],
 "metadata": {
  "kernelspec": {
   "display_name": "Python 3.9.7 ('base')",
   "language": "python",
   "name": "python3"
  },
  "language_info": {
   "codemirror_mode": {
    "name": "ipython",
    "version": 3
   },
   "file_extension": ".py",
   "mimetype": "text/x-python",
   "name": "python",
   "nbconvert_exporter": "python",
   "pygments_lexer": "ipython3",
   "version": "3.9.7"
  },
  "orig_nbformat": 4,
  "vscode": {
   "interpreter": {
    "hash": "ad2bdc8ecc057115af97d19610ffacc2b4e99fae6737bb82f5d7fb13d2f2c186"
   }
  }
 },
 "nbformat": 4,
 "nbformat_minor": 2
}
