{
 "cells": [
  {
   "cell_type": "code",
   "execution_count": 1,
   "metadata": {},
   "outputs": [],
   "source": [
    "%load_ext autoreload\n",
    "%autoreload 2\n",
    "%matplotlib inline"
   ]
  },
  {
   "cell_type": "code",
   "execution_count": 4,
   "metadata": {},
   "outputs": [],
   "source": [
    "import pandas as pd\n",
    "import numpy as np\n",
    "import datetime as dt\n",
    "import wrds\n",
    "import os\n",
    "import matplotlib.pyplot as plt\n",
    "from dateutil.relativedelta import *\n",
    "from pandas.tseries.offsets import *\n",
    "from scipy import stats\n",
    "\n",
    "from get_stock_data import GetStockData"
   ]
  },
  {
   "cell_type": "code",
   "execution_count": 3,
   "metadata": {},
   "outputs": [
    {
     "name": "stdout",
     "output_type": "stream",
     "text": [
      "Loading library list...\n",
      "Done\n"
     ]
    }
   ],
   "source": [
    "username = \"mth989722\"\n",
    "password = \"SystTrade2022\"\n",
    "conn = wrds.Connection(wrds_username='mth989722')"
   ]
  },
  {
   "cell_type": "code",
   "execution_count": 7,
   "metadata": {},
   "outputs": [],
   "source": [
    "# for ticker_file in os.listdir(\"./stock_data/\"):\n",
    "#     ticker = ticker_file[:-4]\n",
    "#     data = GetStockData._get_stock_data(conn=conn, ticker=ticker, startdate='01/01/2018', enddate='12/31/2021')\n",
    "#     data.to_csv(f\"./stock_data/{ticker}.csv\")"
   ]
  },
  {
   "cell_type": "code",
   "execution_count": 3,
   "metadata": {},
   "outputs": [],
   "source": [
    "# conn.describe_table(library='crsp', table='dsf')\n",
    "# conn.describe_table(library='crsp', table='msenames')"
   ]
  },
  {
   "cell_type": "markdown",
   "metadata": {},
   "source": [
    "### Get S&P 500 Constituent Stock List"
   ]
  },
  {
   "cell_type": "code",
   "execution_count": 3,
   "metadata": {},
   "outputs": [],
   "source": [
    "import bs4 as bs\n",
    "import requests\n",
    "import yfinance as yf\n",
    "import datetime\n",
    "from sec_edgar_downloader import Downloader"
   ]
  },
  {
   "cell_type": "code",
   "execution_count": 5,
   "metadata": {},
   "outputs": [],
   "source": [
    "resp = requests.get('http://en.wikipedia.org/wiki/List_of_S%26P_500_companies')\n",
    "soup = bs.BeautifulSoup(resp.text, 'lxml')\n",
    "table = soup.find('table', {'class': 'wikitable sortable'})"
   ]
  },
  {
   "cell_type": "code",
   "execution_count": 6,
   "metadata": {},
   "outputs": [],
   "source": [
    "sp500_tickers = []\n",
    "\n",
    "for row in table.findAll('tr')[1:]:\n",
    "    ticker = row.findAll('td')[0].text\n",
    "    sp500_tickers.append(ticker)\n",
    "sp500_tickers = [s.replace(\"\\n\", \"\") for s in sp500_tickers]"
   ]
  },
  {
   "cell_type": "markdown",
   "metadata": {},
   "source": [
    "### Download edgar/stock data for S&P500 stocks"
   ]
  },
  {
   "cell_type": "code",
   "execution_count": 1,
   "metadata": {},
   "outputs": [],
   "source": [
    "import time\n",
    "from tqdm import tqdm\n",
    "from multiprocessing import Pool\n",
    "\n",
    "if not os.path.exists(\"./stock_data\"):\n",
    "    os.mkdir(\"./stock_data\")\n",
    "\n",
    "error_tickers = []\n",
    "\n",
    "def download_edgar_data(ticker, cnt, error_tickers):\n",
    "    try:\n",
    "        dl = Downloader(\"./\")\n",
    "        if not os.path.exists(f'./stock_data/{ticker}.csv'):\n",
    "            cnt[0] += 1\n",
    "            data = GetStockData._get_stock_data(conn=conn, ticker=ticker, startdate='01/01/2018', enddate='12/31/2021')\n",
    "            if not data is None:\n",
    "                print('Start downloading ', ticker)\n",
    "                dl.get(\"4\", ticker, after=\"2018-01-01\", before=\"2021-12-31\")\n",
    "                data.to_csv(f\"./stock_data/{ticker}.csv\")\n",
    "            if cnt[0] % 5 == 0:\n",
    "                time.sleep(120)\n",
    "        return None\n",
    "    except Exception as e: \n",
    "        print(\"Error ticker: \", ticker, \", error: \", e)\n",
    "        error_tickers.append(ticker)\n",
    "        return None\n"
   ]
  },
  {
   "cell_type": "code",
   "execution_count": null,
   "metadata": {},
   "outputs": [],
   "source": [
    "cnt = 0\n",
    "while True:\n",
    "    conn = wrds.Connection(wrds_username='mth989722')\n",
    "    for ticker in tqdm(sp500_tickers):\n",
    "        download_edgar_data(ticker, [cnt], error_tickers)\n",
    "    time.sleep(1200)"
   ]
  },
  {
   "cell_type": "code",
   "execution_count": 4,
   "metadata": {},
   "outputs": [],
   "source": [
    "download_edgar_data(\"AMAT\", [0], [])"
   ]
  },
  {
   "cell_type": "code",
   "execution_count": null,
   "metadata": {},
   "outputs": [],
   "source": []
  }
 ],
 "metadata": {
  "kernelspec": {
   "display_name": "Python 3.9.7 ('base')",
   "language": "python",
   "name": "python3"
  },
  "language_info": {
   "codemirror_mode": {
    "name": "ipython",
    "version": 3
   },
   "file_extension": ".py",
   "mimetype": "text/x-python",
   "name": "python",
   "nbconvert_exporter": "python",
   "pygments_lexer": "ipython3",
   "version": "3.9.7"
  },
  "orig_nbformat": 4,
  "vscode": {
   "interpreter": {
    "hash": "ad2bdc8ecc057115af97d19610ffacc2b4e99fae6737bb82f5d7fb13d2f2c186"
   }
  }
 },
 "nbformat": 4,
 "nbformat_minor": 2
}
