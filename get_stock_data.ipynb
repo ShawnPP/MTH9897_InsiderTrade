{
 "cells": [
  {
   "cell_type": "code",
   "execution_count": 1,
   "metadata": {},
   "outputs": [],
   "source": [
    "%load_ext autoreload\n",
    "%autoreload 2\n",
    "%matplotlib inline"
   ]
  },
  {
   "cell_type": "code",
   "execution_count": 2,
   "metadata": {},
   "outputs": [],
   "source": [
    "import pandas as pd\n",
    "import numpy as np\n",
    "import datetime as dt\n",
    "import wrds\n",
    "import matplotlib.pyplot as plt\n",
    "from dateutil.relativedelta import *\n",
    "from pandas.tseries.offsets import *\n",
    "from scipy import stats\n",
    "\n",
    "from get_stock_data import GetStockData"
   ]
  },
  {
   "cell_type": "code",
   "execution_count": 3,
   "metadata": {},
   "outputs": [
    {
     "name": "stdout",
     "output_type": "stream",
     "text": [
      "Loading library list...\n",
      "Done\n"
     ]
    }
   ],
   "source": [
    "username = \"mth989722\"\n",
    "password = \"SystTrade2022\"\n",
    "conn = wrds.Connection(wrds_username='mth989722')"
   ]
  },
  {
   "cell_type": "code",
   "execution_count": 22,
   "metadata": {},
   "outputs": [],
   "source": [
    "# conn.describe_table(library='crsp', table='dsf')\n",
    "# conn.describe_table(library='crsp', table='msenames')"
   ]
  },
  {
   "cell_type": "code",
   "execution_count": 5,
   "metadata": {},
   "outputs": [
    {
     "name": "stdout",
     "output_type": "stream",
     "text": [
      "Empty DataFrame\n",
      "Columns: [permno, permco, date, shrcd, exchcd, ticker, ret, retx, shrout, prc, cfacshr, openprc, vol, askhi, bidlo]\n",
      "Index: []\n",
      "Empty DataFrame\n",
      "Columns: [permno, permco, date, shrcd, exchcd, ticker, ret, retx, shrout, prc, cfacshr, openprc, vol, askhi, bidlo]\n",
      "Index: []\n",
      "Empty DataFrame\n",
      "Columns: [permno, permco, date, shrcd, exchcd, ticker, ret, retx, shrout, prc, cfacshr, openprc, vol, askhi, bidlo]\n",
      "Index: []\n",
      "Empty DataFrame\n",
      "Columns: [permno, permco, date, shrcd, exchcd, ticker, ret, retx, shrout, prc, cfacshr, openprc, vol, askhi, bidlo]\n",
      "Index: []\n",
      "Empty DataFrame\n",
      "Columns: [permno, permco, date, shrcd, exchcd, ticker, ret, retx, shrout, prc, cfacshr, openprc, vol, askhi, bidlo]\n",
      "Index: []\n"
     ]
    }
   ],
   "source": [
    "for ticker in ['PNR', 'CEQP', 'PAY', 'AKCA', 'SJW', 'CRM', 'WHG', 'MNKPF', 'S',\n",
    "       'SFTBY', 'NFLX', 'TWNK', 'REED', 'ILMN', 'SXCP', 'IMAX', 'CXO',\n",
    "       'TNRG', 'BH', 'WEC', 'CTXS', 'CYTK', 'ALXN', 'AKS', 'STAG', 'HUBG',\n",
    "       'QLYS', 'EFII', 'HROW', 'ACUR', 'NNUTU', 'CCI', 'ACAD', 'PYPL',\n",
    "       'VNO', 'WTRG', 'ITRI', 'ORBC', 'GDDY']:\n",
    "    try:\n",
    "        data = GetStockData._get_stock_data(conn=conn, ticker=ticker, startdate='01/01/2018', enddate='12/31/2021')\n",
    "        if not data is None:\n",
    "            data.to_csv(f\"./stock_data/{ticker}.csv\")\n",
    "    except Exception as e: \n",
    "        print(ticker)\n",
    "        raise e"
   ]
  },
  {
   "cell_type": "code",
   "execution_count": 10,
   "metadata": {},
   "outputs": [
    {
     "data": {
      "text/plain": [
       "array(['PNR', 'CEQP', 'PAY', 'AKCA', 'SJW', 'CRM', 'WHG', 'MNKPF', 'S',\n",
       "       'SFTBY', 'NFLX', 'TWNK', 'REED', 'ILMN', 'SXCP', 'IMAX', 'CXO',\n",
       "       'TNRG', 'BH', 'WEC', 'CTXS', 'CYTK', 'ALXN', 'AKS', 'STAG', 'HUBG',\n",
       "       'QLYS', 'EFII', 'HROW', 'ACUR', 'NNUTU', 'CCI', 'ACAD', 'PYPL',\n",
       "       'VNO', 'WTRG', 'ITRI', 'ORBC', 'GDDY'], dtype=object)"
      ]
     },
     "execution_count": 10,
     "metadata": {},
     "output_type": "execute_result"
    }
   ],
   "source": [
    "data = pd.read_csv('./edgar_data/2018-01-04.csv')\n",
    "data.ticker.unique()"
   ]
  },
  {
   "cell_type": "code",
   "execution_count": 4,
   "metadata": {},
   "outputs": [
    {
     "name": "stdout",
     "output_type": "stream",
     "text": [
      "Empty DataFrame\n",
      "Columns: [permno, permco, date, shrcd, exchcd, ticker, ret, retx, shrout, prc, cfacshr, openprc, vol, askhi, bidlo]\n",
      "Index: []\n"
     ]
    }
   ],
   "source": [
    "data = GetStockData._get_stock_data(conn=conn, ticker='MNKPF', startdate='01/01/2018', enddate='12/31/2021')"
   ]
  },
  {
   "cell_type": "code",
   "execution_count": null,
   "metadata": {},
   "outputs": [],
   "source": []
  }
 ],
 "metadata": {
  "kernelspec": {
   "display_name": "Python 3.9.7 ('base')",
   "language": "python",
   "name": "python3"
  },
  "language_info": {
   "codemirror_mode": {
    "name": "ipython",
    "version": 3
   },
   "file_extension": ".py",
   "mimetype": "text/x-python",
   "name": "python",
   "nbconvert_exporter": "python",
   "pygments_lexer": "ipython3",
   "version": "3.9.7"
  },
  "orig_nbformat": 4,
  "vscode": {
   "interpreter": {
    "hash": "ad2bdc8ecc057115af97d19610ffacc2b4e99fae6737bb82f5d7fb13d2f2c186"
   }
  }
 },
 "nbformat": 4,
 "nbformat_minor": 2
}
